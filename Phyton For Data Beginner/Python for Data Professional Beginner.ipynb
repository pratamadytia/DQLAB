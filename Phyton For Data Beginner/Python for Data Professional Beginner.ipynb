{
 "cells": [
  {
   "cell_type": "code",
   "execution_count": 1,
   "metadata": {},
   "outputs": [
    {
     "name": "stdout",
     "output_type": "stream",
     "text": [
      "Hello world!\n"
     ]
    }
   ],
   "source": [
    "print(\"Hello world!\")"
   ]
  },
  {
   "cell_type": "code",
   "execution_count": 2,
   "metadata": {},
   "outputs": [
    {
     "name": "stdout",
     "output_type": "stream",
     "text": [
      "Halo Dunia\n",
      "Riset Bahasa Python\n"
     ]
    }
   ],
   "source": [
    "print(\"Halo Dunia\")\n",
    "print(\"Riset Bahasa Python\")"
   ]
  },
  {
   "cell_type": "code",
   "execution_count": 3,
   "metadata": {},
   "outputs": [
    {
     "name": "stdout",
     "output_type": "stream",
     "text": [
      "Belajar Python menyenangkan\n",
      "Halo Dunia\n",
      "Hello World!\n",
      "15\n"
     ]
    }
   ],
   "source": [
    "print(\"Belajar Python menyenangkan\")\n",
    "print(\"Halo Dunia\")\n",
    "print(\"Hello World!\")\n",
    "\n",
    "bilangan1= 5\n",
    "bilangan2= 10\n",
    "kalimat1 = \"Belajar Bahasa Python\"\n",
    "\n",
    "print(bilangan1 + bilangan2)"
   ]
  },
  {
   "cell_type": "code",
   "execution_count": 4,
   "metadata": {},
   "outputs": [
    {
     "name": "stdout",
     "output_type": "stream",
     "text": [
      "10\n"
     ]
    }
   ],
   "source": [
    "bilangan1 = 20\n",
    "bilangan2 = 10\n",
    "print(bilangan1 - bilangan2)"
   ]
  },
  {
   "cell_type": "code",
   "execution_count": 5,
   "metadata": {},
   "outputs": [
    {
     "name": "stdout",
     "output_type": "stream",
     "text": [
      "19800.0\n"
     ]
    }
   ],
   "source": [
    "harga_asli = 20000\n",
    "potongan = 2000\n",
    "harga_setelah_potongan = harga_asli-potongan\n",
    "harga_final = harga_setelah_potongan * 1.1\n",
    "print(harga_final)"
   ]
  },
  {
   "cell_type": "code",
   "execution_count": 6,
   "metadata": {},
   "outputs": [
    {
     "name": "stdout",
     "output_type": "stream",
     "text": [
      "1\n",
      "4.0\n",
      "empat\n"
     ]
    }
   ],
   "source": [
    "contoh_list = [1, 'dua', 3, 4.0, 5]\n",
    "print(contoh_list[0])\n",
    "print(contoh_list[3])\n",
    "contoh_list = [1, 'dua', 3, 4.0, 5]\n",
    "contoh_list[3] = 'empat'\n",
    "print(contoh_list[3])"
   ]
  },
  {
   "cell_type": "code",
   "execution_count": 7,
   "metadata": {},
   "outputs": [
    {
     "name": "stdout",
     "output_type": "stream",
     "text": [
      "Februari\n"
     ]
    },
    {
     "ename": "TypeError",
     "evalue": "'tuple' object does not support item assignment",
     "output_type": "error",
     "traceback": [
      "\u001b[1;31m---------------------------------------------------------------------------\u001b[0m",
      "\u001b[1;31mTypeError\u001b[0m                                 Traceback (most recent call last)",
      "\u001b[1;32m<ipython-input-7-cb71340b8cdb>\u001b[0m in \u001b[0;36m<module>\u001b[1;34m\u001b[0m\n\u001b[0;32m      2\u001b[0m \u001b[0mprint\u001b[0m\u001b[1;33m(\u001b[0m\u001b[0mcontoh_tuple\u001b[0m\u001b[1;33m[\u001b[0m\u001b[1;36m1\u001b[0m\u001b[1;33m]\u001b[0m\u001b[1;33m)\u001b[0m\u001b[1;33m\u001b[0m\u001b[1;33m\u001b[0m\u001b[0m\n\u001b[0;32m      3\u001b[0m \u001b[0mcontoh_tuple\u001b[0m \u001b[1;33m=\u001b[0m \u001b[1;33m(\u001b[0m\u001b[1;34m'Januari'\u001b[0m\u001b[1;33m,\u001b[0m \u001b[1;34m'Februari'\u001b[0m\u001b[1;33m,\u001b[0m \u001b[1;34m'Maret'\u001b[0m\u001b[1;33m,\u001b[0m \u001b[1;34m'April'\u001b[0m\u001b[1;33m)\u001b[0m\u001b[1;33m\u001b[0m\u001b[1;33m\u001b[0m\u001b[0m\n\u001b[1;32m----> 4\u001b[1;33m \u001b[0mcontoh_tuple\u001b[0m\u001b[1;33m[\u001b[0m\u001b[1;36m1\u001b[0m\u001b[1;33m]\u001b[0m \u001b[1;33m=\u001b[0m \u001b[1;34m'Desember'\u001b[0m\u001b[1;33m\u001b[0m\u001b[1;33m\u001b[0m\u001b[0m\n\u001b[0m",
      "\u001b[1;31mTypeError\u001b[0m: 'tuple' object does not support item assignment"
     ]
    }
   ],
   "source": [
    "contoh_tuple = ('Januari', 'Februari', 'Maret', 'April')\n",
    "print(contoh_tuple[1])\n",
    "contoh_tuple = ('Januari', 'Februari', 'Maret', 'April')\n",
    "contoh_tuple[1] = 'Desember'"
   ]
  },
  {
   "cell_type": "code",
   "execution_count": 8,
   "metadata": {},
   "outputs": [
    {
     "name": "stdout",
     "output_type": "stream",
     "text": [
      "['Dewi', 'Budi', 'Cici', 'Linda', 'Cici']\n",
      "{'Dewi', 'Budi', 'Linda', 'Cici'}\n",
      "{'Dewi', 'Budi', 'Linda', 'Cici'}\n"
     ]
    }
   ],
   "source": [
    "contoh_list = ['Dewi', 'Budi', 'Cici', 'Linda', 'Cici' ]\n",
    "print(contoh_list)\n",
    "contoh_set = { 'Dewi', 'Budi', 'Cici', 'Linda', 'Cici'}\n",
    "print(contoh_set)\n",
    "contoh_frozen_set = ({'Dewi', 'Budi', 'Cici', 'Linda', 'Cici'})\n",
    "print(contoh_frozen_set)"
   ]
  },
  {
   "cell_type": "code",
   "execution_count": 9,
   "metadata": {},
   "outputs": [
    {
     "name": "stdout",
     "output_type": "stream",
     "text": [
      "John Doe\n",
      "Programmer\n"
     ]
    }
   ],
   "source": [
    "person = {'nama':'John Doe', 'pekerjaan': 'Programmer' }\n",
    "print(person['nama'])\n",
    "print(person['pekerjaan'])"
   ]
  },
  {
   "cell_type": "code",
   "execution_count": 11,
   "metadata": {},
   "outputs": [],
   "source": [
    "sepatu = {\"nama\": \"Sepatu Niko\", \"harga\": 150000, \"diskon\": 30000}\n",
    "baju = {\"nama\": \"Baju Unikloh\", \"harga\": 80000, \"diskon\": 8000}\n",
    "celana = {\"nama\": \"Celana Lepis\", \"harga\": 200000, \"diskon\": 60000}"
   ]
  },
  {
   "cell_type": "code",
   "execution_count": 12,
   "metadata": {},
   "outputs": [],
   "source": [
    "sepatu = {\"nama\": \"Sepatu Niko\", \"harga\": 150000, \"diskon\": 30000} \n",
    "baju = {\"nama\": \"Baju Unikloh\", \"harga\": 80000, \"diskon\": 8000} \n",
    "celana = {\"nama\": \"Celana Lepis\", \"harga\": 200000, \"diskon\": 60000} \n",
    "daftar_belanja = [sepatu, baju, celana]"
   ]
  },
  {
   "cell_type": "code",
   "execution_count": 13,
   "metadata": {},
   "outputs": [
    {
     "name": "stdout",
     "output_type": "stream",
     "text": [
      "365200.0\n"
     ]
    }
   ],
   "source": [
    "# Data yang dinyatakan ke dalam dictionary\n",
    "sepatu = {\"nama\": \"Sepatu Niko\", \"harga\": 150000, \"diskon\": 30000} \n",
    "baju = {\"nama\": \"Baju Unikloh\", \"harga\": 80000, \"diskon\": 8000} \n",
    "celana = {\"nama\": \"Celana Lepis\", \"harga\": 200000, \"diskon\": 60000}\n",
    "# Hitunglah harga masing-masing data setelah dikurangi diskon\n",
    "harga_sepatu = sepatu[\"harga\"] - sepatu[\"diskon\"] \n",
    "harga_baju = baju[\"harga\"] - baju[\"diskon\"]\n",
    "harga_celana = celana[\"harga\"] - celana[\"diskon\"]\n",
    "# Hitung harga total\n",
    "total_harga = harga_sepatu + harga_baju + harga_celana\n",
    "# Hitung harga kena pajak\n",
    "total_pajak = total_harga * 0.1\n",
    "# Cetak total_harga + total_pajak\n",
    "print(total_harga + total_pajak)"
   ]
  },
  {
   "cell_type": "code",
   "execution_count": 14,
   "metadata": {},
   "outputs": [
    {
     "name": "stdout",
     "output_type": "stream",
     "text": [
      "Kode awal - harga_bayar= 115500.0\n",
      "Penyederhanaan kode - harga_bayar= 115500.0\n"
     ]
    }
   ],
   "source": [
    "total_harga = 150000\n",
    "potongan_harga = 0.3\n",
    "pajak = 0.1 # pajak dalam persen ~ 10%\n",
    "harga_bayar = 1 - 0.3 # baris pertama\n",
    "harga_bayar *= total_harga # baris kedua\n",
    "pajak_bayar = pajak * harga_bayar # baris ketiga\n",
    "harga_bayar += pajak_bayar # baris ke-4\n",
    "print(\"Kode awal - harga_bayar=\", harga_bayar)\n",
    "# Penyederhanaan baris kode dengan menerapkan prioritas operator\n",
    "total_harga = 150000\n",
    "potongan_harga = 0.3\n",
    "pajak = 0.1 # pajak dalam persen ~ 10%\n",
    "harga_bayar = (1 - 0.3) * total_harga #baris pertama\n",
    "harga_bayar += harga_bayar * pajak # baris kedua\n",
    "print(\"Penyederhanaan kode - harga_bayar=\", harga_bayar)"
   ]
  },
  {
   "cell_type": "code",
   "execution_count": 15,
   "metadata": {},
   "outputs": [
    {
     "name": "stdout",
     "output_type": "stream",
     "text": [
      "365200.00000000006\n"
     ]
    }
   ],
   "source": [
    "sepatu = { \"nama\" : \"Sepatu Niko\", \"harga\": 150000, \"diskon\": 30000 }\n",
    "baju = { \"nama\" : \"Baju Unikloh\", \"harga\": 80000, \"diskon\": 8000 }\n",
    "celana = { \"nama\" : \"Celana Lepis\", \"harga\": 200000, \"diskon\": 60000 }\n",
    "harga_sepatu = sepatu[\"harga\"] - sepatu[\"diskon\"]\n",
    "harga_baju = baju[\"harga\"] - baju[\"diskon\"]\n",
    "harga_celana = celana[\"harga\"] - celana[\"diskon\"]\n",
    "total_harga = (harga_sepatu + harga_baju + harga_celana) * 1.1 \n",
    "print(total_harga)"
   ]
  },
  {
   "cell_type": "code",
   "execution_count": 16,
   "metadata": {},
   "outputs": [
    {
     "name": "stdout",
     "output_type": "stream",
     "text": [
      "Tagihan kepada:\n",
      "Mr. Yoyo\n",
      "Selamat pagi, anda harus membayar tagihan sebesar:\n",
      "85000000\n"
     ]
    }
   ],
   "source": [
    "tagihan_ke = 'Mr. Yoyo'\n",
    "warehousing = { 'harga_harian': 1000000, 'total_hari':15 }\n",
    "cleansing = { 'harga_harian': 1500000, 'total_hari':10 }\n",
    "integration = { 'harga_harian':2000000, 'total_hari':15 }\n",
    "transform = { 'harga_harian':2500000, 'total_hari':10 }\n",
    "sub_warehousing = warehousing['harga_harian']*warehousing['total_hari']\n",
    "sub_cleansing = cleansing['harga_harian']*cleansing['total_hari']\n",
    "sub_integration = integration['harga_harian']*integration['total_hari']\n",
    "sub_transform = transform['harga_harian']*transform['total_hari']\n",
    "total_harga = sub_warehousing+sub_cleansing+sub_integration+sub_transform\n",
    "print(\"Tagihan kepada:\")\n",
    "print(tagihan_ke)\n",
    "print(\"Selamat pagi, anda harus membayar tagihan sebesar:\")\n",
    "print(total_harga)"
   ]
  },
  {
   "cell_type": "code",
   "execution_count": 17,
   "metadata": {},
   "outputs": [
    {
     "name": "stdout",
     "output_type": "stream",
     "text": [
      "Tagihan kepada:\n",
      "Mr. Yoyo\n",
      "Selamat siang, anda harus membayar tagihan sebesar:\n",
      "85000000\n"
     ]
    }
   ],
   "source": [
    "jam = 17\n",
    "tagihan_ke = 'Mr. Yoyo'\n",
    "warehousing = { 'harga_harian': 1000000, 'total_hari':15 } \n",
    "cleansing = { 'harga_harian': 1500000, 'total_hari':10 } \n",
    "integration = { 'harga_harian':2000000, 'total_hari':15 } \n",
    "transform = { 'harga_harian':2500000, 'total_hari':10 }\n",
    "sub_warehousing = warehousing['harga_harian']*warehousing['total_hari'] \n",
    "sub_cleansing = cleansing['harga_harian']*cleansing['total_hari'] \n",
    "sub_integration = integration['harga_harian']*integration['total_hari'] \n",
    "sub_transform = transform['harga_harian']*transform['total_hari']\n",
    "total_harga = sub_warehousing+sub_cleansing+sub_integration+sub_transform\n",
    "print(\"Tagihan kepada:\")\n",
    "print(tagihan_ke)\n",
    "if jam > 19 :\n",
    "    print(\"Selamat malam, anda harus membayar tagihan sebesar:\")\n",
    "elif jam > 17:\n",
    "    print(\"Selamat sore, anda harus membayar tagihan sebesar:\") \n",
    "elif jam > 12:\n",
    "    print(\"Selamat siang, anda harus membayar tagihan sebesar:\")\n",
    "else :\n",
    "    print(\"Selamat pagi, anda harus membayar tagihan sebesar:\") \n",
    "print(total_harga)"
   ]
  },
  {
   "cell_type": "code",
   "execution_count": 18,
   "metadata": {},
   "outputs": [
    {
     "name": "stdout",
     "output_type": "stream",
     "text": [
      "750000\n",
      "750000\n"
     ]
    }
   ],
   "source": [
    "# Tagihan\n",
    "tagihan = [50000, 75000, 125000, 300000, 200000]\n",
    "# Tanpa menggunakan while loop\n",
    "total_tagihan = tagihan[0] + tagihan[1] + tagihan[2] + tagihan[3] + tagihan[4]\n",
    "print(total_tagihan)\n",
    "# Dengan menggunakan while loop\n",
    "i = 0 # sebuah variabel untuk mengakses setiap elemen tagihan satu per satu\n",
    "jumlah_tagihan = len(tagihan) # panjang (jumlah elemen dalam) list tagihan\n",
    "total_tagihan = 0 # mula-mula, set total_tagihan ke 0\n",
    "while i < jumlah_tagihan : # selama nilai i kurang dari jumlah_tagihan\n",
    "    total_tagihan += tagihan[i] # tambahkan tagihan[i] ke total_tagihan\n",
    "    i += 1 # tambahkan nilai i dengan 1 untuk memproses tagihan selanjutnya.\n",
    "print(total_tagihan)"
   ]
  },
  {
   "cell_type": "code",
   "execution_count": 19,
   "metadata": {},
   "outputs": [
    {
     "name": "stdout",
     "output_type": "stream",
     "text": [
      "terdapat angka minus dalam tagihan, perhitungan dihentikan!\n",
      "-1\n"
     ]
    }
   ],
   "source": [
    "tagihan = [50000, 75000, -150000, 125000, 300000, -50000, 200000]\n",
    "i = 0\n",
    "jumlah_tagihan = len(tagihan)\n",
    "total_tagihan = 0\n",
    "while i< jumlah_tagihan:\n",
    "    # jika terdapat tagihan ke-i yang bernilai minus (di bawah nol),\n",
    "    # pengulangan akan dihentikan\n",
    "    if tagihan[i] <0:\n",
    "        total_tagihan = -1\n",
    "        print(\"terdapat angka minus dalam tagihan, perhitungan dihentikan!\")\n",
    "        break\n",
    "    total_tagihan += tagihan[i]\n",
    "    i += 1\n",
    "print(total_tagihan)"
   ]
  },
  {
   "cell_type": "code",
   "execution_count": 20,
   "metadata": {},
   "outputs": [
    {
     "name": "stdout",
     "output_type": "stream",
     "text": [
      "750000\n"
     ]
    }
   ],
   "source": [
    "tagihan = [50000, 75000, -150000, 125000, 300000, -50000, 200000]\n",
    "i = 0\n",
    "jumlah_tagihan = len(tagihan)\n",
    "total_tagihan = 0\n",
    "while i< jumlah_tagihan:\n",
    "    # jika terdapat tagihan ke-i yang bernilai minus (di bawah nol),\n",
    "    # abaikan tagihan ke-i dan lanjutkan ke tagihan berikutnya\n",
    "    if tagihan[i] < 0:\n",
    "        i += 1\n",
    "        continue\n",
    "    total_tagihan += tagihan[i]\n",
    "    i += 1\n",
    "print(total_tagihan)"
   ]
  },
  {
   "cell_type": "code",
   "execution_count": 21,
   "metadata": {},
   "outputs": [
    {
     "name": "stdout",
     "output_type": "stream",
     "text": [
      "Apel Malang\n",
      "Duku Malang\n",
      "Jeruk Malang\n",
      "Apel Palembang\n",
      "Duku Palembang\n",
      "Jeruk Palembang\n",
      "Apel Medan\n",
      "Duku Medan\n",
      "Jeruk Medan\n"
     ]
    }
   ],
   "source": [
    "list_daerah = ['Malang', 'Palembang', 'Medan']\n",
    "list_buah = ['Apel', 'Duku', 'Jeruk']\n",
    "for nama_daerah in list_daerah:\n",
    "    for nama_buah in list_buah:\n",
    "        print(nama_buah+\" \"+nama_daerah)"
   ]
  },
  {
   "cell_type": "code",
   "execution_count": 22,
   "metadata": {},
   "outputs": [
    {
     "name": "stdout",
     "output_type": "stream",
     "text": [
      "12500000\n",
      "65000000\n"
     ]
    }
   ],
   "source": [
    "list_cash_flow = [\n",
    "2500000, 5000000, -1000000, -2500000, 5000000, 10000000,\n",
    "-5000000, 7500000, 10000000, -1500000, 25000000, -2500000\n",
    "]\n",
    "total_pengeluaran, total_pemasukan = 0, 0\n",
    "for dana in list_cash_flow:\n",
    "    if dana > 0:\n",
    "        total_pemasukan += dana\n",
    "    else:\n",
    "        total_pengeluaran += dana\n",
    "total_pengeluaran *= -1\n",
    "print(total_pengeluaran) \n",
    "print(total_pemasukan)"
   ]
  },
  {
   "cell_type": "code",
   "execution_count": 23,
   "metadata": {},
   "outputs": [
    {
     "name": "stdout",
     "output_type": "stream",
     "text": [
      "2.8277777777777775\n",
      "7.8999999999999995\n"
     ]
    }
   ],
   "source": [
    "# Data keuangan\n",
    "keuangan = {\n",
    "'pengeluaran': [2, 2.5, 2.25, 2.5, 3.2, 2.5, 3.5, 4, 3],\n",
    "'pemasukan': [7.8, 7.5, 9, 7.6, 7.2, 7.5, 7, 10, 7.5]\n",
    "}\n",
    "# Perhitungan rata-rata pemasukan dan rata-rata pengeluaran\n",
    "total_pengeluaran = 0\n",
    "total_pemasukan = 0\n",
    "for biaya in keuangan['pengeluaran']: \n",
    "    total_pengeluaran += biaya\n",
    "for biaya in keuangan['pemasukan']: \n",
    "    total_pemasukan += biaya\n",
    "rata_rata_pengeluaran = total_pengeluaran / len(keuangan['pengeluaran'])\n",
    "rata_rata_pemasukan = total_pemasukan / len(keuangan['pemasukan'])\n",
    "print(rata_rata_pengeluaran) \n",
    "print(rata_rata_pemasukan)"
   ]
  },
  {
   "cell_type": "code",
   "execution_count": 24,
   "metadata": {},
   "outputs": [
    {
     "name": "stdout",
     "output_type": "stream",
     "text": [
      "Januari\n",
      "Juni\n",
      "Desember\n",
      "November\n"
     ]
    }
   ],
   "source": [
    "bulan_pembelian = ('Januari', 'Februari', 'Maret', 'April', 'Mei', 'Juni', 'Juli', 'Agustus', 'September', 'Oktober', 'November', 'Desember')\n",
    "print(bulan_pembelian[0])\n",
    "print(bulan_pembelian[5])\n",
    "print(bulan_pembelian[-1])\n",
    "print(bulan_pembelian[-2])"
   ]
  },
  {
   "cell_type": "code",
   "execution_count": 25,
   "metadata": {},
   "outputs": [
    {
     "name": "stdout",
     "output_type": "stream",
     "text": [
      "('Mei', 'Juni', 'Juli', 'Agustus')\n",
      "('Januari', 'Februari', 'Maret', 'April', 'Mei')\n",
      "('September', 'Oktober', 'November', 'Desember')\n",
      "('September', 'Oktober', 'November')\n"
     ]
    }
   ],
   "source": [
    "bulan_pembelian = ('Januari', 'Februari', 'Maret', 'April', 'Mei', 'Juni', 'Juli', 'Agustus', 'September', 'Oktober', 'November', 'Desember')\n",
    "pertengahan_tahun = bulan_pembelian[4:8]\n",
    "print(pertengahan_tahun)\n",
    "awal_tahun = bulan_pembelian[:5]\n",
    "print(awal_tahun)\n",
    "akhir_tahun = bulan_pembelian[8:]\n",
    "print(akhir_tahun)\n",
    "print(bulan_pembelian[-4:-1])"
   ]
  },
  {
   "cell_type": "code",
   "execution_count": 26,
   "metadata": {},
   "outputs": [
    {
     "name": "stdout",
     "output_type": "stream",
     "text": [
      "['Gado-gado', 'Ayam Goreng', 'Rendang', 'Es Teh', 'Es Jeruk', 'Es Campur']\n"
     ]
    }
   ],
   "source": [
    "list_makanan = ['Gado-gado', 'Ayam Goreng', 'Rendang']\n",
    "list_minuman = ['Es Teh', 'Es Jeruk', 'Es Campur']\n",
    "list_menu = list_makanan + list_minuman\n",
    "print(list_menu)"
   ]
  },
  {
   "cell_type": "code",
   "execution_count": 27,
   "metadata": {},
   "outputs": [
    {
     "name": "stdout",
     "output_type": "stream",
     "text": [
      ">>> Fitur .append()\n",
      "['Gado-gado', 'Ayam Goreng', 'Rendang', 'Ketoprak']\n",
      ">>> Fitur .clear()\n",
      "[]\n",
      ">>> Fitur .copy()\n",
      "['Gado-gado', 'Ayam Goreng', 'Rendang', 'Ketoprak']\n",
      "['Gado-gado', 'Ayam Goreng', 'Rendang', 'Opor']\n",
      ">>> Fitur .count()\n",
      "4\n",
      "3\n",
      ">>> Fitur .extend()\n",
      "['Gado-gado', 'Ayam Goreng', 'Rendang', 'Es Teh', 'Es Jeruk', 'Es Campur']\n"
     ]
    }
   ],
   "source": [
    "# Fitur .append()\n",
    "print(\">>> Fitur .append()\")\n",
    "list_makanan = ['Gado-gado', 'Ayam Goreng', 'Rendang']\n",
    "list_makanan.append('Ketoprak')\n",
    "print(list_makanan)\n",
    "# Fitur .clear()\n",
    "print(\">>> Fitur .clear()\")\n",
    "list_makanan = ['Gado-gado', 'Ayam Goreng', 'Rendang']\n",
    "list_makanan.clear()\n",
    "print(list_makanan)\n",
    "\n",
    "# Fitur .copy()\n",
    "print(\">>> Fitur .copy()\")\n",
    "list_makanan1 = ['Gado-gado', 'Ayam Goreng', 'Rendang']\n",
    "list_makanan2 = list_makanan1.copy()\n",
    "list_makanan3 = list_makanan1\n",
    "list_makanan2.append('Opor')\n",
    "list_makanan3.append('Ketoprak')\n",
    "print(list_makanan1)\n",
    "print(list_makanan2)\n",
    "\n",
    "# Fitur .count()\n",
    "print(\">>> Fitur .count()\")\n",
    "list_score = ['Budi', 'Sud', 'Budi', 'Budi', 'Budi', 'Sud', 'Sud']\n",
    "score_budi = list_score.count('Budi')\n",
    "score_sud = list_score.count('Sud')\n",
    "print(score_budi) # akan menampilkan output 4\n",
    "print(score_sud) # akan menampilkan output 3\n",
    "\n",
    "# Fitur .extend()\n",
    "print(\">>> Fitur .extend()\")\n",
    "list_menu = ['Gado-gado', 'Ayam Goreng', 'Rendang']\n",
    "list_minuman = ['Es Teh', 'Es Jeruk', 'Es Campur']\n",
    "list_menu.extend(list_minuman)\n",
    "print(list_menu)"
   ]
  },
  {
   "cell_type": "code",
   "execution_count": 28,
   "metadata": {},
   "outputs": [
    {
     "name": "stdout",
     "output_type": "stream",
     "text": [
      ">>> Fitur .index()\n",
      "2\n",
      ">>> Fitur .insert()\n",
      "['Budi', 'Sud', 'Budi', 'Sud', 'Budi', 'Sud']\n",
      ">>> Fitur .pop()\n",
      "['Gado-gado', 'Rendang']\n",
      ">>> Fitur .remove()\n",
      "['Gado-gado', 'Ayam Goreng', 'Ketoprak']\n",
      ">>> Fitur .reverse()\n",
      "['Ketoprak', 'Rendang', 'Ayam Goreng', 'Gado-gado']\n",
      ">>> Fitur .sort()\n",
      "['Ayam Goreng', 'Gado-gado', 'Ketoprak', 'Rendang']\n",
      "['Rendang', 'Ketoprak', 'Gado-gado', 'Ayam Goreng']\n"
     ]
    }
   ],
   "source": [
    "# Fitur .index()\n",
    "print(\">>> Fitur .index()\")\n",
    "list_score = ['Budi','Sud','Budi','Budi','Budi','Sud','Sud']\n",
    "score_pertama_sud = list_score.index('Sud') + 1\n",
    "print(score_pertama_sud) # akan menampilkan output 2\n",
    "# Fitur .insert()\n",
    "print(\">>> Fitur .insert()\")\n",
    "list_score = ['Budi','Sud','Budi','Budi','Sud']\n",
    "list_score.insert(3,'Sud')\n",
    "print(list_score)\n",
    "# Fitur .pop()\n",
    "print(\">>> Fitur .pop()\")\n",
    "list_menu = ['Gado-gado', 'Ayam Goreng', 'Rendang']\n",
    "list_menu.pop(1)\n",
    "print(list_menu)\n",
    "# Fitur .remove()\n",
    "print(\">>> Fitur .remove()\")\n",
    "list_menu = ['Gado-gado', 'Ayam Goreng', 'Rendang', 'Ketoprak']\n",
    "list_menu.remove('Rendang')\n",
    "print(list_menu)\n",
    "# Fitur .reverse()\n",
    "print(\">>> Fitur .reverse()\")\n",
    "list_menu = ['Gado-gado', 'Ayam Goreng', 'Rendang', 'Ketoprak']\n",
    "list_menu.reverse()\n",
    "print(list_menu)\n",
    "# Fitur .sort()\n",
    "print(\">>> Fitur .sort()\")\n",
    "list_menu = ['Gado-gado', 'Ayam Goreng', 'Rendang', 'Ketoprak']\n",
    "list_menu.sort() # Default: Ascending\n",
    "print(list_menu)\n",
    "list_menu.sort(reverse=True)# Descending\n",
    "print(list_menu) "
   ]
  },
  {
   "cell_type": "code",
   "execution_count": 29,
   "metadata": {},
   "outputs": [
    {
     "name": "stdout",
     "output_type": "stream",
     "text": [
      ">>> Fitur .count()\n",
      "4\n",
      "3\n",
      ">>> Fitur .index()\n",
      "2\n"
     ]
    }
   ],
   "source": [
    "# Fitur .count()\n",
    "print(\">>> Fitur .count()\")\n",
    "tuple_score = ('Budi', 'Sud', 'Budi', 'Budi', 'Budi', 'Sud', 'Sud')\n",
    "score_budi = tuple_score.count('Budi')\n",
    "score_sud = tuple_score.count('Sud')\n",
    "print(score_budi) # akan menampilkan output 4\n",
    "print(score_sud) # akan menampilkan output 3\n",
    "# Fitur .index()\n",
    "print(\">>> Fitur .index()\")\n",
    "tuple_score = ('Budi','Sud','Budi','Budi','Budi','Sud','Sud')\n",
    "score_pertama_sud = tuple_score.index('Sud')+1\n",
    "print(score_pertama_sud) # akan menampilkan output 2"
   ]
  },
  {
   "cell_type": "code",
   "execution_count": 30,
   "metadata": {},
   "outputs": [
    {
     "name": "stdout",
     "output_type": "stream",
     "text": [
      ">>> Fitur .add()\n",
      "{'Anggur', 'Jeruk', 'Melon', 'Apel'}\n",
      ">>> Fitur .clear()\n",
      "set()\n",
      ">>> Fitur .copy()\n",
      "{'Anggur', 'Jeruk', 'Melon', 'Apel'}\n",
      "{'Anggur', 'Jeruk', 'Melon', 'Apel'}\n",
      ">>> Fitur .update()\n",
      "{'Anggur', 'Jeruk', 'Melon', 'Apel', 'Kiwi'}\n",
      ">>> Fitur .pop()\n",
      "Anggur\n",
      "{'Jeruk', 'Apel'}\n",
      ">>> Fitur .remove()\n",
      "{'Anggur', 'Jeruk'}\n"
     ]
    }
   ],
   "source": [
    "# Fitur .add()\n",
    "print(\">>> Fitur .add()\")\n",
    "set_buah = {'Jeruk','Apel','Anggur'}\n",
    "set_buah.add('Melon')\n",
    "print(set_buah)\n",
    "# Fitur .clear()\n",
    "print(\">>> Fitur .clear()\")\n",
    "set_buah = {'Jeruk','Apel','Anggur'}\n",
    "set_buah.clear()\n",
    "print(set_buah)\n",
    "# Fitur .copy()\n",
    "print(\">>> Fitur .copy()\")\n",
    "set_buah1 = {'Jeruk','Apel','Anggur'}\n",
    "set_buah2 = set_buah1\n",
    "set_buah3 = set_buah1.copy()\n",
    "set_buah2.add('Melon')\n",
    "set_buah3.add('Kiwi')\n",
    "print(set_buah1)\n",
    "print(set_buah2)\n",
    "# Fitur .update()\n",
    "print(\">>> Fitur .update()\")\n",
    "parcel1 = {'Anggur','Apel','Jeruk'}\n",
    "parcel2 = {'Apel','Kiwi','Melon'}\n",
    "parcel1.update(parcel2)\n",
    "print(parcel1)\n",
    "# Fitur .pop()\n",
    "print(\">>> Fitur .pop()\")\n",
    "parcel = {'Anggur','Apel','Jeruk'}\n",
    "buah = parcel.pop()\n",
    "print(buah)\n",
    "print(parcel)\n",
    "# Fitur .remove()\n",
    "print(\">>> Fitur .remove()\")\n",
    "parcel = {'Anggur','Apel','Jeruk'}\n",
    "parcel.remove('Apel')\n",
    "print(parcel)"
   ]
  },
  {
   "cell_type": "code",
   "execution_count": 31,
   "metadata": {},
   "outputs": [
    {
     "name": "stdout",
     "output_type": "stream",
     "text": [
      ">>> Fitur .union()\n",
      "{'Anggur', 'Jeruk', 'Apel'}\n",
      "{'Anggur', 'Jeruk', 'Melon', 'Apel', 'Kiwi'}\n",
      ">>> Fitur .isdisjoint()\n",
      "True\n",
      "False\n",
      ">>> Fitur .issubset()\n",
      "True\n",
      "False\n",
      ">>> Fitur .issuperset()\n",
      "True\n",
      "False\n",
      ">>> Fitur .intersection()\n",
      "{'Jeruk', 'Apel'}\n",
      ">>> Fitur .difference()\n",
      "{'Anggur', 'Melon', 'Kiwi'}\n",
      ">>> Fitur .symmetric_difference()\n",
      "{'Leci', 'Semangka', 'Anggur', 'Melon'}\n"
     ]
    }
   ],
   "source": [
    "# Fitur .union()\n",
    "print(\">>> Fitur .union()\")\n",
    "parcel1 = {'Anggur','Apel','Jeruk'}\n",
    "parcel2 = {'Apel','Kiwi','Melon'}\n",
    "parcel3 = parcel1.union(parcel2)\n",
    "print(parcel1)\n",
    "print(parcel3)\n",
    "\n",
    "# Fitur .isdisjoint()\n",
    "\n",
    "print(\">>> Fitur .isdisjoint()\")\n",
    "parcel1 = {'Anggur','Apel','Jeruk'}\n",
    "parcel2 = {'Kiwi','Melon','Pisang'}\n",
    "parcel3 = {'Apel','Srikaya','Semangka'}\n",
    "parcel1_parcel2_disjoint = parcel1.isdisjoint(parcel2)\n",
    "print(parcel1_parcel2_disjoint)\n",
    "parcel1_parcel3_disjoint = parcel1.isdisjoint(parcel3)\n",
    "print(parcel1_parcel3_disjoint)\n",
    "\n",
    "# Fitur .issubset()\n",
    "print(\">>> Fitur .issubset()\")\n",
    "parcel_A = {'Anggur', 'Apel'}\n",
    "parcel_B = {'Durian','Semangka','Apel'}\n",
    "parcel_C = {'Anggur', 'Kiwi', 'Apel', 'Jeruk', 'Melon'}\n",
    "parcel_A_dalam_C = parcel_A.issubset(parcel_C)\n",
    "parcel_B_dalam_C = parcel_B.issubset(parcel_C)\n",
    "print(parcel_A_dalam_C)\n",
    "print(parcel_B_dalam_C)\n",
    "\n",
    "# Fitur .issuperset()\n",
    "print(\">>> Fitur .issuperset()\")\n",
    "parcel_C_mengandung_A = parcel_C.issuperset(parcel_A)\n",
    "parcel_C_mengandung_B = parcel_C.issuperset(parcel_B)\n",
    "print(parcel_C_mengandung_A)\n",
    "print(parcel_C_mengandung_B)\n",
    "\n",
    "# Fitur .intersection()\n",
    "print(\">>> Fitur .intersection()\")\n",
    "parcel_A = {'Anggur', 'Kiwi', 'Apel', 'Jeruk', 'Melon'}\n",
    "parcel_B = {'Apel', 'Jeruk', 'Semangka', 'Durian', 'Tomat'}\n",
    "parcel_C = parcel_A.intersection(parcel_B)\n",
    "print(parcel_C)\n",
    "\n",
    "# Fitur .difference()\n",
    "print(\">>> Fitur .difference()\")\n",
    "parcel_C = parcel_A.difference(parcel_B)\n",
    "print(parcel_C)\n",
    "\n",
    "# Fitur .symmetric_difference()\n",
    "print(\">>> Fitur .symmetric_difference()\")\n",
    "parcel_A = {'Anggur', 'Apel', 'Jeruk', 'Melon'}\n",
    "parcel_B = {'Apel','Jeruk','Semangka','Leci'}\n",
    "parcel_C = parcel_A.symmetric_difference(parcel_B)\n",
    "print(parcel_C)"
   ]
  },
  {
   "cell_type": "code",
   "execution_count": 32,
   "metadata": {},
   "outputs": [
    {
     "name": "stdout",
     "output_type": "stream",
     "text": [
      ">>> Fitur .union()\n",
      "{'Anggur', 'Jeruk', 'Apel'}\n",
      "{'Anggur', 'Jeruk', 'Melon', 'Apel', 'Kiwi'}\n",
      ">>> Fitur .isdisjoint()\n",
      "True\n",
      "False\n",
      ">>> Fitur .issubset()\n",
      "True\n",
      "False\n",
      ">>> Fitur .issuperset()\n",
      "True\n",
      "False\n",
      ">>> Fitur .intersection()\n",
      "{'Jeruk', 'Apel'}\n",
      ">>> Fitur .difference()\n",
      "{'Anggur', 'Melon', 'Kiwi'}\n",
      ">>> Fitur .symmetric_difference()\n",
      "{'Leci', 'Semangka', 'Anggur', 'Melon'}\n"
     ]
    }
   ],
   "source": [
    "# Fitur .union()\n",
    "print(\">>> Fitur .union()\")\n",
    "parcel1 = {'Anggur','Apel','Jeruk'}\n",
    "parcel2 = {'Apel','Kiwi','Melon'}\n",
    "parcel3 = parcel1.union(parcel2)\n",
    "print(parcel1)\n",
    "print(parcel3)\n",
    "\n",
    "# Fitur .isdisjoint()\n",
    "\n",
    "print(\">>> Fitur .isdisjoint()\")\n",
    "parcel1 = {'Anggur','Apel','Jeruk'}\n",
    "parcel2 = {'Kiwi','Melon','Pisang'}\n",
    "parcel3 = {'Apel','Srikaya','Semangka'}\n",
    "parcel1_parcel2_disjoint = parcel1.isdisjoint(parcel2)\n",
    "print(parcel1_parcel2_disjoint)\n",
    "parcel1_parcel3_disjoint = parcel1.isdisjoint(parcel3)\n",
    "print(parcel1_parcel3_disjoint)\n",
    "\n",
    "# Fitur .issubset()\n",
    "print(\">>> Fitur .issubset()\")\n",
    "parcel_A = {'Anggur', 'Apel'}\n",
    "parcel_B = {'Durian','Semangka','Apel'}\n",
    "parcel_C = {'Anggur', 'Kiwi', 'Apel', 'Jeruk', 'Melon'}\n",
    "parcel_A_dalam_C = parcel_A.issubset(parcel_C)\n",
    "parcel_B_dalam_C = parcel_B.issubset(parcel_C)\n",
    "print(parcel_A_dalam_C)\n",
    "print(parcel_B_dalam_C)\n",
    "\n",
    "# Fitur .issuperset()\n",
    "print(\">>> Fitur .issuperset()\")\n",
    "parcel_C_mengandung_A = parcel_C.issuperset(parcel_A)\n",
    "parcel_C_mengandung_B = parcel_C.issuperset(parcel_B)\n",
    "print(parcel_C_mengandung_A)\n",
    "print(parcel_C_mengandung_B)\n",
    "\n",
    "# Fitur .intersection()\n",
    "print(\">>> Fitur .intersection()\")\n",
    "parcel_A = {'Anggur', 'Kiwi', 'Apel', 'Jeruk', 'Melon'}\n",
    "parcel_B = {'Apel', 'Jeruk', 'Semangka', 'Durian', 'Tomat'}\n",
    "parcel_C = parcel_A.intersection(parcel_B)\n",
    "print(parcel_C)\n",
    "\n",
    "# Fitur .difference()\n",
    "print(\">>> Fitur .difference()\")\n",
    "parcel_C = parcel_A.difference(parcel_B)\n",
    "print(parcel_C)\n",
    "\n",
    "# Fitur .symmetric_difference()\n",
    "print(\">>> Fitur .symmetric_difference()\")\n",
    "parcel_A = {'Anggur', 'Apel', 'Jeruk', 'Melon'}\n",
    "parcel_B = {'Apel','Jeruk','Semangka','Leci'}\n",
    "parcel_C = parcel_A.symmetric_difference(parcel_B)\n",
    "print(parcel_C)"
   ]
  },
  {
   "cell_type": "code",
   "execution_count": 33,
   "metadata": {},
   "outputs": [
    {
     "name": "stdout",
     "output_type": "stream",
     "text": [
      ">>> Tuple\n",
      "4\n",
      ">>> List\n",
      "4\n",
      ">>> Konversi tipe data\n",
      "{'Jeruk', 'Markisa', 'Apel'}\n",
      "['Apel', 'Jeruk', 'Markisa']\n"
     ]
    }
   ],
   "source": [
    "# Tuple\n",
    "print(\">>> Tuple\")\n",
    "tuple_menu = ('Gado-gado','Ayam Goreng','Rendang','Ketoprak')\n",
    "jumlah_menu = len(tuple_menu)\n",
    "print(jumlah_menu)\n",
    "\n",
    "# List\n",
    "print(\">>> List\")\n",
    "list_menu = ['Gado-gado','Ayam Goreng','Rendang','Ketoprak']\n",
    "jumlah_menu = len(list_menu)\n",
    "print(jumlah_menu)\n",
    "\n",
    "# Konversi tipe data\n",
    "print(\">>> Konversi tipe data\")\n",
    "list_buah = ['Apel', 'Apel', 'Jeruk', 'Markisa', 'Jeruk', 'Markisa', 'Apel']\n",
    "set_buah = set(list_buah)\n",
    "print(set_buah)\n",
    "list_buah = list(set_buah)\n",
    "list_buah.sort()\n",
    "print(list_buah)"
   ]
  },
  {
   "cell_type": "code",
   "execution_count": 34,
   "metadata": {},
   "outputs": [
    {
     "name": "stdout",
     "output_type": "stream",
     "text": [
      "SePatu NiKo\n",
      "SePatu \n",
      "NiKo\n",
      "11\n"
     ]
    }
   ],
   "source": [
    "nama_produk = \"Sepatu Niko\"\n",
    "nama_produk = nama_produk[:2] + \"P\" + nama_produk[3:9] + \"K\" + nama_produk[-1]\n",
    "print(nama_produk)\n",
    "print(nama_produk[:7])\n",
    "print(nama_produk[7:])\n",
    "print(len(nama_produk))"
   ]
  },
  {
   "cell_type": "code",
   "execution_count": 35,
   "metadata": {},
   "outputs": [
    {
     "name": "stdout",
     "output_type": "stream",
     "text": [
      "John Doee\n",
      "Hi, saya John Doee umur 27 tahun, tinggal di Jl. Anggrek No. 100.\n"
     ]
    }
   ],
   "source": [
    "nama_depan = 'John'\n",
    "nama_belakang = 'Doee'\n",
    "nama_lengkap = nama_depan + ' ' + nama_belakang\n",
    "print(nama_lengkap)\n",
    "umur = '27 tahun'\n",
    "alamat = 'Jl. Anggrek No. 100'\n",
    "nama_umur_alamat = 'Hi, saya ' + nama_lengkap + ' umur ' + umur + ', tinggal di ' + alamat + '.'\n",
    "print(nama_umur_alamat)"
   ]
  },
  {
   "cell_type": "code",
   "execution_count": 36,
   "metadata": {},
   "outputs": [
    {
     "name": "stdout",
     "output_type": "stream",
     "text": [
      ">>> Fitur .strip()\n",
      "halo, selamat siang!\n",
      ">>> Fitur .lstrip()\n",
      "halo, selamat siang! \n",
      ">>> Fitur .rstrip()\n",
      " halo, selamat siang!\n"
     ]
    }
   ],
   "source": [
    "# Fitur .strip()\n",
    "print(\">>> Fitur .strip()\")\n",
    "kata_sambutan = ' halo, selamat siang! '\n",
    "kata_sambutan = kata_sambutan.strip()\n",
    "print(kata_sambutan)\n",
    "\n",
    "# Fitur .lstrip()\n",
    "print(\">>> Fitur .lstrip()\")\n",
    "kata_sambutan = ' halo, selamat siang! '\n",
    "kata_sambutan = kata_sambutan.lstrip()\n",
    "print(kata_sambutan)\n",
    "\n",
    "# Fitur .rstrip()\n",
    "print(\">>> Fitur .rstrip()\")\n",
    "kata_sambutan = ' halo, selamat siang! '\n",
    "kata_sambutan = kata_sambutan.rstrip()\n",
    "print(kata_sambutan)"
   ]
  },
  {
   "cell_type": "code",
   "execution_count": 37,
   "metadata": {},
   "outputs": [
    {
     "name": "stdout",
     "output_type": "stream",
     "text": [
      ">>> Fitur .capitalize()\n",
      "Belajar bahasa python\n",
      ">>> Fitur .lower()\n",
      "belajar bahasa python.\n",
      ">>> Fitur .upper()\n",
      "BELAJAR BAHASA PYTHON.\n"
     ]
    }
   ],
   "source": [
    "# Fitur .capitalize()\n",
    "print(\">>> Fitur .capitalize()\")\n",
    "judul_buku = 'belajar bahasa Python'\n",
    "print(judul_buku.capitalize())\n",
    "# Fitur .lower()\n",
    "print(\">>> Fitur .lower()\")\n",
    "judul_buku = 'Belajar Bahasa PYTHON.'\n",
    "print(judul_buku.lower())\n",
    "# Fitur .upper()\n",
    "print(\">>> Fitur .upper()\")\n",
    "judul_buku = 'Belajar Bahasa PYTHON.'\n",
    "print(judul_buku.upper())"
   ]
  },
  {
   "cell_type": "code",
   "execution_count": 38,
   "metadata": {},
   "outputs": [
    {
     "name": "stdout",
     "output_type": "stream",
     "text": [
      ">>> Fitur .split()\n",
      "['ani ', ' budi ', ' wati ', ' johan']\n",
      "['ani', 'dan', 'budi', 'dan', 'wati', 'dan', 'johan']\n",
      ">>> Fitur .join()\n",
      "Ricky dan Peter dan Jordan\n",
      ">>> Fitur .replace()\n",
      "jeruk malang jeruk yang paling segar, jeruk sehat, jeruk nikmat\n"
     ]
    }
   ],
   "source": [
    "# Fitur .split()\n",
    "print(\">>> Fitur .split()\")\n",
    "bilangan = \"ani dan budi dan wati dan johan\"\n",
    "karakter = bilangan.split(\"dan\")\n",
    "print(karakter)\n",
    "kata = bilangan.split(\" \")\n",
    "print(kata)\n",
    "# Fitur .join()\n",
    "print(\">>> Fitur .join()\")\n",
    "pemisah = \" dan \"\n",
    "karakter = [\"Ricky\", \"Peter\", \"Jordan\"]\n",
    "kalimat = pemisah.join(karakter)\n",
    "print(kalimat)\n",
    "# Fitur .replace()\n",
    "print(\">>> Fitur .replace()\")\n",
    "kalimat = \"apel malang apel yang paling segar, apel sehat, apel nikmat\"\n",
    "kalimat = kalimat.replace(\"apel\", \"jeruk\")\n",
    "print(kalimat)"
   ]
  },
  {
   "cell_type": "code",
   "execution_count": 39,
   "metadata": {},
   "outputs": [
    {
     "name": "stdout",
     "output_type": "stream",
     "text": [
      ">>> Fitur .find()\n",
      "0\n",
      "5\n",
      ">>> Fitur .count()\n",
      "3\n"
     ]
    }
   ],
   "source": [
    "teks = \"Apel malang adalah apel termanis dibanding apel-apel lainnya\"\n",
    "# Fitur .find()\n",
    "print(\">>> Fitur .find()\")\n",
    "print(teks.find(\"Apel\"))\n",
    "print(teks.find(\"malang\"))\n",
    "# Fitur .count()\n",
    "print(\">>> Fitur .count()\")\n",
    "kemunculan_kata_apel = teks.count(\"apel\")\n",
    "print(kemunculan_kata_apel)"
   ]
  },
  {
   "cell_type": "code",
   "execution_count": 40,
   "metadata": {},
   "outputs": [
    {
     "name": "stdout",
     "output_type": "stream",
     "text": [
      ">>> Fitur .startswith()\n",
      "True\n",
      "False\n",
      ">>> Fitur .endswith()\n",
      "True\n",
      "False\n"
     ]
    }
   ],
   "source": [
    "# Fitur .startswith()\n",
    "print(\">>> Fitur .startswith()\")\n",
    "teks = \"Apel malang adalah apel termanis dibanding apel-apel lainnya\"\n",
    "print(teks.startswith(\"Apel\"))\n",
    "print(teks.startswith(\"apel\"))\n",
    "# Fitur .endswith()\n",
    "print(\">>> Fitur .endswith()\")\n",
    "print(teks.endswith(\"lainnya\"))\n",
    "print(teks.endswith(\"apel\"))"
   ]
  },
  {
   "cell_type": "code",
   "execution_count": 41,
   "metadata": {},
   "outputs": [
    {
     "name": "stdout",
     "output_type": "stream",
     "text": [
      ">>> Fitur .startswith()\n",
      "True\n",
      "False\n",
      ">>> Fitur .endswith()\n",
      "True\n",
      "False\n"
     ]
    }
   ],
   "source": [
    "# Fitur .startswith()\n",
    "print(\">>> Fitur .startswith()\")\n",
    "teks = \"Apel malang adalah apel termanis dibanding apel-apel lainnya\"\n",
    "print(teks.startswith(\"Apel\"))\n",
    "print(teks.startswith(\"apel\"))\n",
    "# Fitur .endswith()\n",
    "print(\">>> Fitur .endswith()\")\n",
    "print(teks.endswith(\"lainnya\"))\n",
    "print(teks.endswith(\"apel\"))"
   ]
  },
  {
   "cell_type": "code",
   "execution_count": 42,
   "metadata": {},
   "outputs": [
    {
     "name": "stdout",
     "output_type": "stream",
     "text": [
      "8\n",
      "9\n"
     ]
    }
   ],
   "source": [
    "judul_artikel = [\n",
    "\"Buah Salak Baik untuk Mata\", \"Buah Salak Kaya Potasium\", \n",
    "\"Buah Jeruk Kaya Vitamin C\", \"Buah Salak Kaya Manfaat\", \n",
    "\"Salak Baik untuk Jantung\", \"Jeruk dapat Memperkuat Tulang\", \n",
    "\"Jeruk Mencegah Penyakit Asma\", \"Jeruk Memperkuat Gigi\", \n",
    "\"Jeruk Mencegah Kolesterol Jahat\", \"Salak Mencegah Diabetes\", \n",
    "\"Salak Memperkuat Dinding Usus\", \"Salak Baik untuk Darah\",\n",
    "\"Jeruk Kaya Manfaat untuk Jantung\", \"Salak si Kecil yang Baik\", \n",
    "\"Jeruk dan Salak Buah Kaya Manfaat\", \"Buah Jeruk Enak\",\n",
    "\"Tips Panen Jeruk Ribuan Kilo\", \"Tips Bertanam Salak\", \n",
    "\"Salak Manis untuk Berbuka\", \"Jeruk Baik untuk Wajah\"\n",
    "]\n",
    "kata_positif = [\"Kaya\", \"Baik\", \"Mencegah\", \"Memperkuat\"]\n",
    "kata_positif_jeruk = 0\n",
    "kata_positif_salak = 0\n",
    "for judul in judul_artikel: \n",
    "    for kata in kata_positif:\n",
    "        if judul.count(\"Jeruk\") > 0 and judul.count(kata) > 0: \n",
    "            kata_positif_jeruk += 1\n",
    "        if judul.count(\"Salak\") > 0 and judul.count(kata) > 0: \n",
    "            kata_positif_salak += 1\n",
    "print(kata_positif_jeruk) \n",
    "print(kata_positif_salak)"
   ]
  },
  {
   "cell_type": "code",
   "execution_count": 43,
   "metadata": {},
   "outputs": [
    {
     "ename": "IndentationError",
     "evalue": "expected an indented block (<ipython-input-43-d55aa92cdf3f>, line 3)",
     "output_type": "error",
     "traceback": [
      "\u001b[1;36m  File \u001b[1;32m\"<ipython-input-43-d55aa92cdf3f>\"\u001b[1;36m, line \u001b[1;32m3\u001b[0m\n\u001b[1;33m    print(\"Halo Dunia\")\u001b[0m\n\u001b[1;37m    ^\u001b[0m\n\u001b[1;31mIndentationError\u001b[0m\u001b[1;31m:\u001b[0m expected an indented block\n"
     ]
    }
   ],
   "source": [
    "# Definisikan fungsi\n",
    "def contoh_fungsi():\n",
    "print(\"Halo Dunia\")\n",
    "print(\"Aku sedang belajar bahasa Python\")\n",
    "# Panggil fungsi yang telah didefinisikan\n",
    "contoh_fungsi()"
   ]
  },
  {
   "cell_type": "code",
   "execution_count": 44,
   "metadata": {},
   "outputs": [
    {
     "name": "stdout",
     "output_type": "stream",
     "text": [
      "John Doe\n"
     ]
    }
   ],
   "source": [
    "# Definsikan fungsi \n",
    "def fungsi_dengan_argumen(nama_depan, nama_belakang):\n",
    "    print(nama_depan+\" \"+nama_belakang)\n",
    "# Panggil fungsi dengan memasukkan argumen\n",
    "# nama_depan yaitu \"John\" dan nama_belakang \"Doe\"\n",
    "fungsi_dengan_argumen(\"John\", \"Doe\")"
   ]
  },
  {
   "cell_type": "code",
   "execution_count": 45,
   "metadata": {},
   "outputs": [
    {
     "ename": "TypeError",
     "evalue": "fungsi_dengan_argumen() missing 1 required positional argument: 'nama_belakang'",
     "output_type": "error",
     "traceback": [
      "\u001b[1;31m---------------------------------------------------------------------------\u001b[0m",
      "\u001b[1;31mTypeError\u001b[0m                                 Traceback (most recent call last)",
      "\u001b[1;32m<ipython-input-45-9baa054a621c>\u001b[0m in \u001b[0;36m<module>\u001b[1;34m\u001b[0m\n\u001b[0;32m      3\u001b[0m         \u001b[0mprint\u001b[0m\u001b[1;33m(\u001b[0m\u001b[0mnama_depan\u001b[0m\u001b[1;33m+\u001b[0m \u001b[1;34m\" \"\u001b[0m \u001b[1;33m+\u001b[0m\u001b[0mnama_belakang\u001b[0m \u001b[1;33m)\u001b[0m\u001b[1;33m\u001b[0m\u001b[1;33m\u001b[0m\u001b[0m\n\u001b[0;32m      4\u001b[0m \u001b[1;31m# Panggil fungsi dengan memasukkan argumen nama_depan \"John\"\u001b[0m\u001b[1;33m\u001b[0m\u001b[1;33m\u001b[0m\u001b[1;33m\u001b[0m\u001b[0m\n\u001b[1;32m----> 5\u001b[1;33m \u001b[0mfungsi_dengan_argumen\u001b[0m\u001b[1;33m(\u001b[0m\u001b[1;34m\"John\"\u001b[0m\u001b[1;33m)\u001b[0m\u001b[1;33m\u001b[0m\u001b[1;33m\u001b[0m\u001b[0m\n\u001b[0m\u001b[0;32m      6\u001b[0m \u001b[1;31m# Panggil fungsi dengan memasukkan argumen\u001b[0m\u001b[1;33m\u001b[0m\u001b[1;33m\u001b[0m\u001b[1;33m\u001b[0m\u001b[0m\n\u001b[0;32m      7\u001b[0m \u001b[1;31m# nama_depan yaitu \"John\" dan nama_belakang \"Doe\"\u001b[0m\u001b[1;33m\u001b[0m\u001b[1;33m\u001b[0m\u001b[1;33m\u001b[0m\u001b[0m\n",
      "\u001b[1;31mTypeError\u001b[0m: fungsi_dengan_argumen() missing 1 required positional argument: 'nama_belakang'"
     ]
    }
   ],
   "source": [
    "# Definsikan fungsi dengan nilai default argument kedua adalah \"\".\n",
    "def fungsi_dengan_Argumen(nama_depan, nama_belakang = \"\"):\n",
    "\tprint(nama_depan+ \" \" +nama_belakang )\n",
    "# Panggil fungsi dengan memasukkan argumen nama_depan \"John\"\n",
    "fungsi_dengan_argumen(\"John\")\n",
    "# Panggil fungsi dengan memasukkan argumen\n",
    "# nama_depan yaitu \"John\" dan nama_belakang \"Doe\"\n",
    "fungsi_dengan_argumen(\"John\", \"Doe\")"
   ]
  },
  {
   "cell_type": "code",
   "execution_count": 46,
   "metadata": {},
   "outputs": [
    {
     "name": "stdout",
     "output_type": "stream",
     "text": [
      "Rata-rata data1:\n",
      "105.0\n",
      "Rata-rata data2:\n",
      "73.0\n"
     ]
    }
   ],
   "source": [
    "# Dua buah data yang tersimpan dalam tipe list\n",
    "data1 = [70, 70, 70, 100, 100, 100, 120, 120, 150, 150]\n",
    "data2 = [50, 60, 60, 50, 70, 70, 100, 80, 100, 90]\n",
    "# Definisikan fungsi hitng_rata_rata\n",
    "def hitung_rata_rata(data):\n",
    "    jumlah = 0\n",
    "    for item in data:\n",
    "        jumlah += item\n",
    "    rata_rata = jumlah/len(data)\n",
    "    return rata_rata\n",
    "# Hitung nilai rata-rata dari kedua data yang dimiliki\n",
    "print('Rata-rata data1:')\n",
    "print(hitung_rata_rata(data1))\n",
    "print('Rata-rata data2:')\n",
    "print(hitung_rata_rata(data2))"
   ]
  },
  {
   "cell_type": "code",
   "execution_count": 47,
   "metadata": {},
   "outputs": [
    {
     "name": "stdout",
     "output_type": "stream",
     "text": [
      "Standar deviasi data1:\n",
      "28.722813232690143\n",
      "Standar deviasi data2:\n",
      "17.916472867168917\n"
     ]
    }
   ],
   "source": [
    "# Dua buah data yang tersimpan dalam tipe list\n",
    "data1 = [70, 70, 70, 100, 100, 100, 120, 120, 150, 150]\n",
    "data2 = [50, 60, 60, 50, 70, 70, 100, 80, 100, 90]\n",
    "# Fungsi rata-rata data\n",
    "def hitung_rata_rata(data):\n",
    "    jumlah = 0\n",
    "    for item in data:\n",
    "        jumlah += item\n",
    "    rata_rata = jumlah/len(data)\n",
    "    return rata_rata\n",
    "# Definisikan fungsi hitung_standar_deviasi\n",
    "def hitung_standar_deviasi(data):\n",
    "    rata_rata_data = hitung_rata_rata(data)\n",
    "    varians = 0\n",
    "    for item in data:\n",
    "        varians += (item - rata_rata_data) ** 2\n",
    "    varians /= len(data)\n",
    "    standar_deviasi = varians ** (1/2)\n",
    "    return standar_deviasi\n",
    "# Hitung nilai standar deviasi dari kedua data yang dimiliki\n",
    "print('Standar deviasi data1:')\n",
    "print(hitung_standar_deviasi(data1))\n",
    "print('Standar deviasi data2:')\n",
    "print(hitung_standar_deviasi(data2))"
   ]
  },
  {
   "cell_type": "code",
   "execution_count": 48,
   "metadata": {},
   "outputs": [
    {
     "name": "stdout",
     "output_type": "stream",
     "text": [
      "Rata-rata luas_tanah:\n",
      "105.0\n",
      "Standar deviasi luas_tanah:\n",
      "14.93311056335886\n",
      "\n",
      "Rata-rata luas_bangunan:\n",
      "73.0\n",
      "Standar deviasi luas_bangunan:\n",
      "6.025948374480153\n",
      "\n",
      "Rata-rata jarak:\n",
      "34.0\n",
      "Standar deviasi jarak:\n",
      "6.24005184770928\n",
      "\n",
      "Rata-rata harga:\n",
      "1155.0\n",
      "Standar deviasi harga:\n",
      "587.0594351517378\n",
      "\n"
     ]
    }
   ],
   "source": [
    "# Data properti\n",
    "tabel_properti = {\n",
    "'luas_tanah': [70, 70, 70, 100, 100, 100, 120, 120, 150, 150],\n",
    "'luas_bangunan': [50, 60, 60, 50, 70, 70, 100, 80, 100, 90],\n",
    "'jarak': [15, 30, 55, 30, 25, 50, 20, 50, 50, 15],\n",
    "'harga': [500, 400, 300, 700, 1000, 650, 2000, 1200, 1800, 3000]\n",
    "}\n",
    "# Fungsi rata-rata data\n",
    "def hitung_rata_rata(data):\n",
    "    jumlah = 0\n",
    "    for item in data:\n",
    "        jumlah += item\n",
    "    rata_rata = jumlah/len(data)\n",
    "    return rata_rata\n",
    "# Fungsi hitung_standar_deviasi\n",
    "def hitung_standar_deviasi(data):\n",
    "    rata_rata_data = hitung_rata_rata(data)\n",
    "    varians = 0\n",
    "    for item in data:\n",
    "        varians += (item - rata_rata_data) ** 2\n",
    "        varians /= len(data)\n",
    "    standar_deviasi = varians ** (1/2)\n",
    "    return standar_deviasi\n",
    "# Definisikan fungsi untuk menghitung rata-rata dan standar deviasi\n",
    "# setiap kolom pada tabel_properti yang diberikan oleh key dict.\n",
    "def deskripsi_properti(tabel):\n",
    "    for key in tabel.keys():\n",
    "        print('Rata-rata ' + key + ':')\n",
    "        print(hitung_rata_rata(tabel[key])) \n",
    "        print('Standar deviasi ' + key + ':')\n",
    "        print(hitung_standar_deviasi(tabel[key]))\n",
    "        print('')\n",
    "# Panggil fungsi deskripsi_properti untuk menghitung rata-rata \n",
    "# dan standar deviasi setiap kolom pada tabel_properti\n",
    "deskripsi_properti(tabel_properti)"
   ]
  },
  {
   "cell_type": "code",
   "execution_count": 49,
   "metadata": {},
   "outputs": [
    {
     "name": "stdout",
     "output_type": "stream",
     "text": [
      ">>> Membaca file hello.txt dengan fungsi read()\n"
     ]
    },
    {
     "ename": "FileNotFoundError",
     "evalue": "[Errno 2] No such file or directory: 'hello.txt'",
     "output_type": "error",
     "traceback": [
      "\u001b[1;31m---------------------------------------------------------------------------\u001b[0m",
      "\u001b[1;31mFileNotFoundError\u001b[0m                         Traceback (most recent call last)",
      "\u001b[1;32m<ipython-input-49-ed70ea98480b>\u001b[0m in \u001b[0;36m<module>\u001b[1;34m\u001b[0m\n\u001b[0;32m      1\u001b[0m \u001b[1;31m# Membaca file hello.txt dengan fungsi read()\u001b[0m\u001b[1;33m\u001b[0m\u001b[1;33m\u001b[0m\u001b[1;33m\u001b[0m\u001b[0m\n\u001b[0;32m      2\u001b[0m \u001b[0mprint\u001b[0m\u001b[1;33m(\u001b[0m\u001b[1;34m\">>> Membaca file hello.txt dengan fungsi read()\"\u001b[0m\u001b[1;33m)\u001b[0m\u001b[1;33m\u001b[0m\u001b[1;33m\u001b[0m\u001b[0m\n\u001b[1;32m----> 3\u001b[1;33m \u001b[0mfile\u001b[0m \u001b[1;33m=\u001b[0m \u001b[0mopen\u001b[0m\u001b[1;33m(\u001b[0m\u001b[1;34m\"hello.txt\"\u001b[0m\u001b[1;33m,\u001b[0m \u001b[1;34m\"r\"\u001b[0m\u001b[1;33m)\u001b[0m\u001b[1;33m\u001b[0m\u001b[1;33m\u001b[0m\u001b[0m\n\u001b[0m\u001b[0;32m      4\u001b[0m \u001b[0mcontent\u001b[0m \u001b[1;33m=\u001b[0m \u001b[0mfile\u001b[0m\u001b[1;33m.\u001b[0m\u001b[0mread\u001b[0m\u001b[1;33m(\u001b[0m\u001b[1;33m)\u001b[0m\u001b[1;33m\u001b[0m\u001b[1;33m\u001b[0m\u001b[0m\n\u001b[0;32m      5\u001b[0m \u001b[0mfile\u001b[0m\u001b[1;33m.\u001b[0m\u001b[0mclose\u001b[0m\u001b[1;33m(\u001b[0m\u001b[1;33m)\u001b[0m\u001b[1;33m\u001b[0m\u001b[1;33m\u001b[0m\u001b[0m\n",
      "\u001b[1;31mFileNotFoundError\u001b[0m: [Errno 2] No such file or directory: 'hello.txt'"
     ]
    }
   ],
   "source": [
    "# Membaca file hello.txt dengan fungsi read()\n",
    "print(\">>> Membaca file hello.txt dengan fungsi read()\")\n",
    "file = open(\"hello.txt\", \"r\")\n",
    "content = file.read()\n",
    "file.close()\n",
    "print(content)\n",
    "# Membaca file hello.txt dengan fungsi readline()\n",
    "print(\">>> Membaca file hello.txt dengan fungsi readline()\")\n",
    "file = open(\"hello.txt\", \"r\")\n",
    "first_line = file.readline()\n",
    "second_line = file.readline()\n",
    "file.close\n",
    "print(first_line)\n",
    "print(second_line)"
   ]
  },
  {
   "cell_type": "code",
   "execution_count": 50,
   "metadata": {},
   "outputs": [
    {
     "name": "stdout",
     "output_type": "stream",
     "text": [
      ">>> Membaca file hello.txt dengan fungsi readlines()\n"
     ]
    },
    {
     "ename": "FileNotFoundError",
     "evalue": "[Errno 2] No such file or directory: 'hello.txt'",
     "output_type": "error",
     "traceback": [
      "\u001b[1;31m---------------------------------------------------------------------------\u001b[0m",
      "\u001b[1;31mFileNotFoundError\u001b[0m                         Traceback (most recent call last)",
      "\u001b[1;32m<ipython-input-50-80ffa05454ee>\u001b[0m in \u001b[0;36m<module>\u001b[1;34m\u001b[0m\n\u001b[0;32m      1\u001b[0m \u001b[1;31m# Membaca file hello.txt dengan fungsi readlines()\u001b[0m\u001b[1;33m\u001b[0m\u001b[1;33m\u001b[0m\u001b[1;33m\u001b[0m\u001b[0m\n\u001b[0;32m      2\u001b[0m \u001b[0mprint\u001b[0m\u001b[1;33m(\u001b[0m\u001b[1;34m\">>> Membaca file hello.txt dengan fungsi readlines()\"\u001b[0m\u001b[1;33m)\u001b[0m\u001b[1;33m\u001b[0m\u001b[1;33m\u001b[0m\u001b[0m\n\u001b[1;32m----> 3\u001b[1;33m \u001b[0mfile\u001b[0m \u001b[1;33m=\u001b[0m \u001b[0mopen\u001b[0m\u001b[1;33m(\u001b[0m\u001b[1;34m\"hello.txt\"\u001b[0m\u001b[1;33m,\u001b[0m \u001b[1;34m\"r\"\u001b[0m\u001b[1;33m)\u001b[0m\u001b[1;33m\u001b[0m\u001b[1;33m\u001b[0m\u001b[0m\n\u001b[0m\u001b[0;32m      4\u001b[0m \u001b[0mall_lines\u001b[0m \u001b[1;33m=\u001b[0m \u001b[0mfile\u001b[0m\u001b[1;33m.\u001b[0m\u001b[0mreadlines\u001b[0m\u001b[1;33m(\u001b[0m\u001b[1;33m)\u001b[0m\u001b[1;33m\u001b[0m\u001b[1;33m\u001b[0m\u001b[0m\n\u001b[0;32m      5\u001b[0m \u001b[0mfile\u001b[0m\u001b[1;33m.\u001b[0m\u001b[0mclose\u001b[0m\u001b[1;33m(\u001b[0m\u001b[1;33m)\u001b[0m\u001b[1;33m\u001b[0m\u001b[1;33m\u001b[0m\u001b[0m\n",
      "\u001b[1;31mFileNotFoundError\u001b[0m: [Errno 2] No such file or directory: 'hello.txt'"
     ]
    }
   ],
   "source": [
    "# Membaca file hello.txt dengan fungsi readlines()\n",
    "print(\">>> Membaca file hello.txt dengan fungsi readlines()\")\n",
    "file = open(\"hello.txt\", \"r\")\n",
    "all_lines = file.readlines()\n",
    "file.close()\n",
    "print(all_lines)\n",
    "# Membaca file hello.txt dengan menerapkan looping\n",
    "print(\">>> Membaca file hello.txt dengan menerapkan looping\")\n",
    "file = open(\"hello.txt\", \"r\")\n",
    "for line in file:\n",
    "    print(line)"
   ]
  },
  {
   "cell_type": "code",
   "execution_count": 51,
   "metadata": {},
   "outputs": [],
   "source": [
    "file = open(\"hello.txt\", \"w\")\n",
    "file.write(\"Sekarang kita belajar menulis dengan menggunakan Python\")\n",
    "file.write(\"Menulis konten file dengan mode w (write).\")\n",
    "file.close()"
   ]
  },
  {
   "cell_type": "code",
   "execution_count": 52,
   "metadata": {},
   "outputs": [],
   "source": [
    "# Menulis ke file dengan mode append\n",
    "file = open(\"hello.txt\", \"a\")\n",
    "file.writelines([\n",
    "\"Sekarang kita belajar menulis dengan menggunakan Python\", \n",
    "\"Menulis konten file dengan mode a (append).\"\n",
    "])\n",
    "file.close()"
   ]
  },
  {
   "cell_type": "code",
   "execution_count": 53,
   "metadata": {},
   "outputs": [
    {
     "name": "stdout",
     "output_type": "stream",
     "text": [
      ">>> Fungsi math.ceil()\n",
      "11\n",
      "14\n",
      ">>> Fungsi math.floor()\n",
      "10\n",
      "13\n",
      ">>> Fungsi math.fabs()\n",
      "10.32\n",
      "13.87\n",
      ">>> Fungsi math.factorial()\n",
      "120\n",
      ">>> Fungsi math.fsum()\n",
      "6.0\n"
     ]
    }
   ],
   "source": [
    "import math\n",
    "# Fungsi math.ceil()\n",
    "print(\">>> Fungsi math.ceil()\")\n",
    "x = 10.32\n",
    "y = 13.87\n",
    "x_ceil = math.ceil(x)\n",
    "y_ceil = math.ceil(y)\n",
    "print(x_ceil)\n",
    "print(y_ceil)\n",
    "# Fungsi math.floor()\n",
    "print(\">>> Fungsi math.floor()\")\n",
    "x_floor = math.floor(x)\n",
    "y_floor = math.floor(y)\n",
    "print(x_floor)\n",
    "print(y_floor)\n",
    "# Fungsi math.fabs()\n",
    "print(\">>> Fungsi math.fabs()\")\n",
    "x = 10.32\n",
    "y = -13.87\n",
    "x = math.fabs(x)\n",
    "y = math.fabs(y)\n",
    "print(x)\n",
    "print(y)\n",
    "# Fungsi math.factorial()\n",
    "print(\">>> Fungsi math.factorial()\")\n",
    "x_factorial = math.factorial(5)\n",
    "print(x_factorial)\n",
    "# Fungsi math.fsum()\n",
    "print(\">>> Fungsi math.fsum()\")\n",
    "x = [1, 2, 3, 4, 5, 6, -6, -5, -4]\n",
    "total = math.fsum(x)\n",
    "print(total)"
   ]
  },
  {
   "cell_type": "code",
   "execution_count": 54,
   "metadata": {},
   "outputs": [
    {
     "name": "stdout",
     "output_type": "stream",
     "text": [
      ">>> Fungsi math.log()\n",
      "3.0\n",
      "4.0\n",
      "4.0\n",
      ">>> Fungsi math.sqrt()\n",
      "10.0\n",
      "1.4142135623730951\n",
      ">>> Fungsi math.copysign()\n",
      "-10.32\n",
      "-13.87\n",
      "15.0\n"
     ]
    }
   ],
   "source": [
    "# Import library math\n",
    "import math\n",
    "# Fungsi math.log()\n",
    "print(\">>> Fungsi math.log()\")\n",
    "# x = log basis 2 dari 8\n",
    "x = math.log(8,2)\n",
    "# y = log basis 3 dari 81\n",
    "y = math.log(81,3)\n",
    "# z = log basis 10 dari 10000\n",
    "z = math.log(10000,10)\n",
    "print(x)\n",
    "print(y)\n",
    "print(z)\n",
    "# Fungsi math.sqrt()\n",
    "print(\">>> Fungsi math.sqrt()\")\n",
    "# akar kuadrat dari 100\n",
    "x = math.sqrt(100)\n",
    "print(x)\n",
    "# akar kuadrat dari 2\n",
    "y = math.sqrt(2)\n",
    "print(y)\n",
    "# Fungsi math.copysign()\n",
    "print(\">>> Fungsi math.copysign()\")\n",
    "x = 10.32\n",
    "y = -13.87\n",
    "z = -15\n",
    "x = math.copysign(x,z)\n",
    "y = math.copysign(y,z)\n",
    "z = math.copysign(z,10)\n",
    "print(x)\n",
    "print(y)\n",
    "print(z)"
   ]
  },
  {
   "cell_type": "code",
   "execution_count": 55,
   "metadata": {},
   "outputs": [
    {
     "ename": "FileNotFoundError",
     "evalue": "[Errno 2] No such file or directory: 'harga_rumah.txt'",
     "output_type": "error",
     "traceback": [
      "\u001b[1;31m---------------------------------------------------------------------------\u001b[0m",
      "\u001b[1;31mFileNotFoundError\u001b[0m                         Traceback (most recent call last)",
      "\u001b[1;32m<ipython-input-55-86da9098a33a>\u001b[0m in \u001b[0;36m<module>\u001b[1;34m\u001b[0m\n\u001b[0;32m      1\u001b[0m \u001b[1;31m# STEP 1:\u001b[0m\u001b[1;33m\u001b[0m\u001b[1;33m\u001b[0m\u001b[1;33m\u001b[0m\u001b[0m\n\u001b[0;32m      2\u001b[0m \u001b[1;31m# Baca file \"harga_rumah.txt\"\u001b[0m\u001b[1;33m\u001b[0m\u001b[1;33m\u001b[0m\u001b[1;33m\u001b[0m\u001b[0m\n\u001b[1;32m----> 3\u001b[1;33m \u001b[0mfile_harga_rumah\u001b[0m \u001b[1;33m=\u001b[0m \u001b[0mopen\u001b[0m\u001b[1;33m(\u001b[0m\u001b[1;34m\"harga_rumah.txt\"\u001b[0m\u001b[1;33m,\u001b[0m \u001b[1;34m\"r\"\u001b[0m\u001b[1;33m)\u001b[0m\u001b[1;33m\u001b[0m\u001b[1;33m\u001b[0m\u001b[0m\n\u001b[0m\u001b[0;32m      4\u001b[0m \u001b[0mdata_harga_rumah\u001b[0m \u001b[1;33m=\u001b[0m \u001b[0mfile_harga_rumah\u001b[0m\u001b[1;33m.\u001b[0m\u001b[0mreadlines\u001b[0m\u001b[1;33m(\u001b[0m\u001b[1;33m)\u001b[0m\u001b[1;33m\u001b[0m\u001b[1;33m\u001b[0m\u001b[0m\n\u001b[0;32m      5\u001b[0m \u001b[0mfile_harga_rumah\u001b[0m\u001b[1;33m.\u001b[0m\u001b[0mclose\u001b[0m\u001b[1;33m(\u001b[0m\u001b[1;33m)\u001b[0m\u001b[1;33m\u001b[0m\u001b[1;33m\u001b[0m\u001b[0m\n",
      "\u001b[1;31mFileNotFoundError\u001b[0m: [Errno 2] No such file or directory: 'harga_rumah.txt'"
     ]
    }
   ],
   "source": [
    "# STEP 1: \n",
    "# Baca file \"harga_rumah.txt\"\n",
    "file_harga_rumah = open(\"harga_rumah.txt\", \"r\")\n",
    "data_harga_rumah = file_harga_rumah.readlines()\n",
    "file_harga_rumah.close()\n",
    "# Buat list of dict dengan nama harga rumah\n",
    "key_harga_rumah = data_harga_rumah[0].replace(\"\\n\",\"\").split(\",\")\n",
    "harga_rumah = []\n",
    "for baris in data_harga_rumah[1:]:\n",
    "\tbaris_harga_rumah = baris.replace(\"\\n\",\"\").split(\",\")\n",
    "\tdict_harga_rumah = dict()\n",
    "\tfor i in range(len(baris_harga_rumah)):\n",
    "\t\tdict_harga_rumah[key_harga_rumah[i]] = baris_harga_rumah[i]\n",
    "\tharga_rumah.append(dict_harga_rumah)\n",
    "print(harga_rumah)\n",
    "# STEP 2:\n",
    "# Buat fungsi  get_all_specified_attribute yang menerima parameter list_of_dictionary \n",
    "# (tipe data list yang berisikan sekumpulan tipe data dictionary) dan specified_key \n",
    "# (tipe data string). Fungsi akan mengembalikan sebuah list yang berisikan seluruh \n",
    "# atribut dengan kunci (key) specified_key. \n",
    "def get_all_specified_attributes(list_of_dictionary, specified_key):\n",
    "\tlist_attributes = []\n",
    "\tfor data in list_of_dictionary:\n",
    "\t\tattribute = data[specified_key]\n",
    "\t\tlist_attributes.append(attribute)\n",
    "\treturn list_attributes\n",
    "# STEP 3: \n",
    "# Buat fungsi fungsi min_value yang menerima parameter list_attributes (berupa \n",
    "# tipe data list) dan mengembalikan nilai terkecil dalam list_attributes \n",
    "def min_value(list_attributes):\n",
    "\tmin_attribute = 9999\n",
    "\tfor attr in list_attributes:\n",
    "\t\tif int(attr) < min_attribute:\n",
    "\t\t\tmin_attribute = int(attr)\n",
    "\treturn min_attribute\n",
    "# Buat fungsi dan max_value yang menerima parameter list_attribute dan \n",
    "# mengembalikan nilai terbesar dalam list_attributes.\t\n",
    "def max_value(list_attributes):\n",
    "\tmax_attribute = -9999\n",
    "\tfor attr in list_attributes:\n",
    "\t\tif int(attr) > max_attribute:\n",
    "\t\t\tmax_attribute = int(attr)\n",
    "\treturn max_attribute\n",
    "# STEP 4: \n",
    "# Buat fungsi transform_attribute yang menerima parameter attr (sebuah \n",
    "# bilangan), max_attr (sebuah bilangan) dan min_attr (sebuah bilangan) \n",
    "# yang mengembalikan nilai transformasi dari sebuah attribute.\n",
    "def transform_attribute(attr, max_attr, min_attr):\n",
    "\tnilai_transformasi = (attr - min_attr) / (max_attr - min_attr)\n",
    "\treturn nilai_transformasi\n",
    "# STEP 5:\n",
    "# Buat fungsi data_transformation yang menerima parameter list_of_dictionary \n",
    "# (sebuah list yang berisikan tipe data dictionary) dan list_attribute_names \n",
    "# (sebuah list yang berisikan tipe data string) mengembalikan hasil \n",
    "# transformasi data dari list_of_dictionary berdasarkan list_attribute_names \n",
    "# dan attr_info telah dispesifikasikan.\n",
    "def data_transformation(list_of_dictionary, list_attribute_names):\n",
    "\tattr_info = {}\n",
    "\tfor attr_name in list_attribute_names:\n",
    "\t\tspecified_attributes = get_all_specified_attributes(list_of_dictionary, attr_name)\n",
    "\t\tmax_attr = max_value(specified_attributes)\n",
    "\t\tmin_attr = min_value(specified_attributes)\n",
    "\t\tattr_info[attr_name] = {'max': max_attr, 'min': min_attr}\n",
    "\t\tdata_idx = 0\n",
    "\t\twhile(data_idx < len(list_of_dictionary)):\n",
    "\t\t\tlist_of_dictionary[data_idx][attr_name] = transform_attribute(int(list_of_dictionary[data_idx][attr_name]), max_attr, min_attr)\n",
    "\t\t\tdata_idx += 1\n",
    "\treturn list_of_dictionary, attr_info\n",
    "# STEP 6:\n",
    "# Berdasarkan data baru dan attr_info ini, buat fungsi transform_data yang\n",
    "# menerima parameter data dan attr_info dan mengembalikan nilai atribut \n",
    "# dari data baru yang telah ditransformasikan.\n",
    "def transform_data(data, attr_info):\n",
    "\tfor key_name in data.keys():\n",
    "\t\tdata[key_name] = (data[key_name] - attr_info[key_name]['min']) / (\n",
    "\t\t                  attr_info[key_name]['max'] - attr_info[key_name]['min'])\n",
    "\treturn data\n",
    "# STEP 7:\n",
    "# Buat fungsi yang digunakan untuk sistem prediksi harga berdasarkan \n",
    "# nilai kemiripan atribut, yaitu argument input data dan list_of_data!\n",
    "def abs_value(value):\n",
    "\tif value < 0:\n",
    "\t\treturn -value\n",
    "\telse:\n",
    "\t\treturn value\n",
    "def price_based_on_similarity(data, list_of_data):\n",
    "\tprediksi_harga = 0\n",
    "\tperbedaan_terkecil = 999\n",
    "\tfor data_point in list_of_data:\n",
    "\t\tperbedaan= abs_value(data['tanah'] - data_point['tanah'])\n",
    "\t\tperbedaan+= abs_value(data['bangunan'] - data_point['bangunan'])\n",
    "\t\tperbedaan+= abs_value(data['jarak_ke_pusat'] - data_point['jarak_ke_pusat'])\n",
    "\t\tif perbedaan < perbedaan_terkecil:\n",
    "\t\t\tprediksi_harga = data_point['harga']\n",
    "\t\t\tperbedaan_terkecil = perbedaan\n",
    "\treturn prediksi_harga\n",
    "# STEP 8:\n",
    "# Hitung harga rumah yang telah ditransformasikan ke dalam variabel \n",
    "# harga_rumah berikut dengan atributnya attr_info\n",
    "harga_rumah, attr_info = data_transformation(harga_rumah,\n",
    "\t\t\t\t\t\t\t\t\t\t\t ['tanah','bangunan','jarak_ke_pusat'])\n",
    "# Gunakan variabel data untuk memprediksi harga rumah\n",
    "data = {'tanah': 110, 'bangunan': 80, 'jarak_ke_pusat': 35}\n",
    "# Transformasikan data tersebut dengan dengan menggunakan attr_info yang telah \n",
    "# diperoleh yang kembali disimpan ke variabel data.\n",
    "data = transform_data(data, attr_info)\n",
    "# Hitunglah prediksi harga dari variabel data tersebut.\n",
    "harga = price_based_on_similarity(data, harga_rumah)\n",
    "print(\"Prediksi harga rumah: \", harga)"
   ]
  },
  {
   "cell_type": "code",
   "execution_count": 56,
   "metadata": {},
   "outputs": [
    {
     "name": "stdout",
     "output_type": "stream",
     "text": [
      "ABC\n",
      "DEF\n",
      "DEF\n"
     ]
    }
   ],
   "source": [
    "# Definisikan class Karyawan\n",
    "class Karyawan:\n",
    "    nama_perusahaan = 'ABC'\n",
    "# Inisiasi object yang dinyatakan dalam variabel aksara dan senja\n",
    "aksara = Karyawan()\n",
    "senja = Karyawan()\n",
    "# Cetak nama perusahaan melalui penggunaan keyword __class__\n",
    "# pada class attribute nama_perusahaan\n",
    "print(aksara.__class__.nama_perusahaan)\n",
    "# Ubah nama_perusahaan menjadi 'DEF'\n",
    "aksara.__class__.nama_perusahaan = 'DEF'\n",
    "# Cetak nama_perusahaan objek aksara dan senja\n",
    "print(aksara.__class__.nama_perusahaan)\n",
    "print(senja.__class__.nama_perusahaan)"
   ]
  },
  {
   "cell_type": "code",
   "execution_count": 57,
   "metadata": {},
   "outputs": [
    {
     "name": "stdout",
     "output_type": "stream",
     "text": [
      "Aksara, Usia: 25, Pendapatan 8500000\n",
      "Senja, Usia: 28, Pendapatan 12500000\n"
     ]
    }
   ],
   "source": [
    "# Definisikan class Karyawan\n",
    "class Karyawan:\n",
    "    nama_perusahaan = 'ABC'\n",
    "    def __init__(self, nama, usia, pendapatan):\n",
    "        self.nama = nama\n",
    "        self.usia = usia\n",
    "        self.pendapatan = pendapatan\n",
    "# Buat object bernama aksara dan senja\n",
    "aksara = Karyawan('Aksara', 25, 8500000)\n",
    "senja = Karyawan('Senja', 28, 12500000)\n",
    "# Cetak objek bernama aksara\n",
    "print(aksara.nama + ', Usia: ' + str(aksara.usia) + ', Pendapatan ' + str(aksara.pendapatan))\n",
    "# Cetak objek bernama senja\n",
    "print(senja.nama + ', Usia: ' + str(senja.usia) + ', Pendapatan ' + str(senja.pendapatan))"
   ]
  },
  {
   "cell_type": "code",
   "execution_count": 58,
   "metadata": {},
   "outputs": [
    {
     "name": "stdout",
     "output_type": "stream",
     "text": [
      "Pendapatan Total Aksara: 8750000\n",
      "Pendapatan Total Senja: 15000000\n"
     ]
    }
   ],
   "source": [
    "# Definisikan class Karyawan berikut dengan attribut dan fungsinya\n",
    "class Karyawan:\n",
    "    nama_perusahaan = 'ABC'\n",
    "    insentif_lembur = 250000\n",
    "    def __init__(self, nama, usia, pendapatan):\n",
    "        self.nama = nama\n",
    "        self.usia = usia\n",
    "        self.pendapatan = pendapatan\n",
    "        self.pendapatan_tambahan = 0\n",
    "    def lembur(self):\n",
    "        self.pendapatan_tambahan += self.insentif_lembur\n",
    "    def tambahan_proyek(self, insentif_proyek):\n",
    "    \tself.pendapatan_tambahan += insentif_proyek\n",
    "    def total_pendapatan(self):\n",
    "    \treturn self.pendapatan + self.pendapatan_tambahan\n",
    "# Buat object dari karwayan bernama Aksara dan Senja\n",
    "aksara = Karyawan('Aksara', 25, 8500000)\n",
    "senja = Karyawan('Senja', 28, 12500000)\n",
    "# Aksara melaksanakan lembur\n",
    "aksara.lembur()\n",
    "# Senja memiliki proyek tambahan\n",
    "senja.tambahan_proyek(2500000)\n",
    "# Cetak pendapatan total Aksara dan Senja\n",
    "print('Pendapatan Total Aksara: ' + str(aksara.total_pendapatan()))\n",
    "print('Pendapatan Total Senja: ' +str(senja.total_pendapatan()))"
   ]
  },
  {
   "cell_type": "code",
   "execution_count": 60,
   "metadata": {},
   "outputs": [],
   "source": [
    "# Definisikan class Karyawan\n",
    "class Karyawan:\n",
    "    def __init__(self, nama, usia, pendapatan, insentif_lembur): \n",
    "        self.nama = nama\n",
    "        self.usia = usia\n",
    "        self.pendapatan = pendapatan \n",
    "        self.pendapatan_tambahan = 0\n",
    "        self.insentif_lembur = insentif_lembur\n",
    "    def lembur(self):\n",
    "        self.pendapatan_tambahan += self.insentif_lembur \n",
    "    def tambahan_proyek(self, jumlah_tambahan):\n",
    "        self.pendapatan_tambahan += jumlah_tambahan \n",
    "    def total_pendapatan(self):\n",
    "        return self.pendapatan + self.pendapatan_tambahan\n",
    "\n",
    "# Definisikan class Perusahaan\n",
    "class Perusahaan:\n",
    "    def __init__(self, nama, alamat, nomor_telepon): \n",
    "        self.nama = nama\n",
    "        self.alamat = alamat \n",
    "        self.nomor_telepon = nomor_telepon\n",
    "        self.list_karyawan = []\n",
    "    def aktifkan_karyawan(self, karyawan): \n",
    "        self.list_karyawan.append(karyawan)\n",
    "    def nonaktifkan_karyawan(self, nama_karyawan): \n",
    "        karyawan_nonaktif = None\n",
    "        for karyawan in self.list_karyawan:\n",
    "            if karyawan.nama == nama_karyawan: \n",
    "                karyawan_nonaktif = karyawan \n",
    "                break\n",
    "        if karyawan_nonaktif is not None: \n",
    "            self.list_karyawan.remove(karyawan_nonaktif)"
   ]
  },
  {
   "cell_type": "code",
   "execution_count": 61,
   "metadata": {},
   "outputs": [],
   "source": [
    "# Definisikan perusahaan\n",
    "perusahaan = Perusahaan('ABC', 'Jl. Jendral Sudirman, Blok 11', '(021) 95205XX')\n",
    "# Definisikan nama-nama karyawan\n",
    "karyawan_1 = Karyawan('Ani', 25, 8500000, 100000)\n",
    "karyawan_2 = Karyawan('Budi', 28, 12000000, 150000)\n",
    "karyawan_3 = Karyawan('Cici', 30, 15000000, 200000)\n",
    "# Aktifkan karyawan di perusahaan ABC\n",
    "perusahaan.aktifkan_karyawan(karyawan_1)\n",
    "perusahaan.aktifkan_karyawan(karyawan_2)\n",
    "perusahaan.aktifkan_karyawan(karyawan_3)"
   ]
  },
  {
   "cell_type": "code",
   "execution_count": 63,
   "metadata": {},
   "outputs": [
    {
     "ename": "AttributeError",
     "evalue": "type object 'Karyawan' has no attribute '___'",
     "output_type": "error",
     "traceback": [
      "\u001b[1;31m---------------------------------------------------------------------------\u001b[0m",
      "\u001b[1;31mAttributeError\u001b[0m                            Traceback (most recent call last)",
      "\u001b[1;32m<ipython-input-63-baa223d1edec>\u001b[0m in \u001b[0;36m<module>\u001b[1;34m\u001b[0m\n\u001b[0;32m     17\u001b[0m \u001b[0maksara\u001b[0m \u001b[1;33m=\u001b[0m \u001b[0mKaryawan\u001b[0m\u001b[1;33m(\u001b[0m\u001b[1;34m'Aksara'\u001b[0m\u001b[1;33m,\u001b[0m \u001b[1;36m25\u001b[0m\u001b[1;33m,\u001b[0m \u001b[1;36m8500000\u001b[0m\u001b[1;33m)\u001b[0m\u001b[1;33m\u001b[0m\u001b[1;33m\u001b[0m\u001b[0m\n\u001b[0;32m     18\u001b[0m \u001b[1;31m# Akses ke attribute class Karyawan\u001b[0m\u001b[1;33m\u001b[0m\u001b[1;33m\u001b[0m\u001b[1;33m\u001b[0m\u001b[0m\n\u001b[1;32m---> 19\u001b[1;33m \u001b[0mprint\u001b[0m\u001b[1;33m(\u001b[0m\u001b[0maksara\u001b[0m\u001b[1;33m.\u001b[0m\u001b[0m__class__\u001b[0m\u001b[1;33m.\u001b[0m\u001b[0m___\u001b[0m\u001b[1;33m)\u001b[0m\u001b[1;33m\u001b[0m\u001b[1;33m\u001b[0m\u001b[0m\n\u001b[0m\u001b[0;32m     20\u001b[0m \u001b[1;31m# Akan menimbulkan error ketika di run\u001b[0m\u001b[1;33m\u001b[0m\u001b[1;33m\u001b[0m\u001b[1;33m\u001b[0m\u001b[0m\n\u001b[0;32m     21\u001b[0m \u001b[0mprint\u001b[0m\u001b[1;33m(\u001b[0m\u001b[0maksara\u001b[0m\u001b[1;33m.\u001b[0m\u001b[0m___\u001b[0m\u001b[1;33m)\u001b[0m\u001b[1;33m\u001b[0m\u001b[1;33m\u001b[0m\u001b[0m\n",
      "\u001b[1;31mAttributeError\u001b[0m: type object 'Karyawan' has no attribute '___'"
     ]
    }
   ],
   "source": [
    "# Definisikan class Karyawan\n",
    "class Karyawan: \n",
    "    nama_perusahaan = 'ABC' \n",
    "    __insentif_lembur = 250000\n",
    "    def __init__(self, nama, usia, pendapatan): \n",
    "        self.__nama = nama\n",
    "        self.__usia = usia \n",
    "        self.__pendapatan = pendapatan \n",
    "        self.__pendapatan_tambahan = 0\n",
    "    def lembur(self):\n",
    "        self.__pendapatan_tambahan += self.__insentif_lembur \n",
    "    def tambahan_proyek(self, insentif_proyek):\n",
    "        self.__pendapatan_tambahan +=insentif_proyek \n",
    "    def total_pendapatan(self):\n",
    "        return self.__pendapatan + self.__pendapatan_tambahan\n",
    "# Buat objek karyawan bernama Aksara\n",
    "aksara = Karyawan('Aksara', 25, 8500000)\n",
    "# Akses ke attribute class Karyawan\n",
    "print(aksara.__class__.___)\n",
    "# Akan menimbulkan error ketika di run\n",
    "print(aksara.___)"
   ]
  },
  {
   "cell_type": "code",
   "execution_count": 64,
   "metadata": {},
   "outputs": [
    {
     "ename": "NameError",
     "evalue": "name 'karyawan' is not defined",
     "output_type": "error",
     "traceback": [
      "\u001b[1;31m---------------------------------------------------------------------------\u001b[0m",
      "\u001b[1;31mNameError\u001b[0m                                 Traceback (most recent call last)",
      "\u001b[1;32m<ipython-input-64-c8aa10468488>\u001b[0m in \u001b[0;36m<module>\u001b[1;34m\u001b[0m\n\u001b[0;32m     16\u001b[0m \u001b[1;31m# Buat class turunan (sebagai inherit class) dari class karyawan,\u001b[0m\u001b[1;33m\u001b[0m\u001b[1;33m\u001b[0m\u001b[1;33m\u001b[0m\u001b[0m\n\u001b[0;32m     17\u001b[0m \u001b[1;31m# yaitu class AnalisData\u001b[0m\u001b[1;33m\u001b[0m\u001b[1;33m\u001b[0m\u001b[1;33m\u001b[0m\u001b[0m\n\u001b[1;32m---> 18\u001b[1;33m \u001b[1;32mclass\u001b[0m \u001b[0mAnalisData\u001b[0m\u001b[1;33m(\u001b[0m\u001b[0mkaryawan\u001b[0m\u001b[1;33m)\u001b[0m\u001b[1;33m:\u001b[0m\u001b[1;33m\u001b[0m\u001b[1;33m\u001b[0m\u001b[0m\n\u001b[0m\u001b[0;32m     19\u001b[0m     \u001b[1;32mdef\u001b[0m \u001b[0m__init__\u001b[0m\u001b[1;33m(\u001b[0m\u001b[0mself\u001b[0m\u001b[1;33m,\u001b[0m \u001b[0mnama\u001b[0m\u001b[1;33m,\u001b[0m \u001b[0musia\u001b[0m\u001b[1;33m,\u001b[0m \u001b[0mpendapatan\u001b[0m\u001b[1;33m)\u001b[0m\u001b[1;33m:\u001b[0m\u001b[1;33m\u001b[0m\u001b[1;33m\u001b[0m\u001b[0m\n\u001b[0;32m     20\u001b[0m     \u001b[1;31m# melakukan pemanggilan konstruktur class Karyawan\u001b[0m\u001b[1;33m\u001b[0m\u001b[1;33m\u001b[0m\u001b[1;33m\u001b[0m\u001b[0m\n",
      "\u001b[1;31mNameError\u001b[0m: name 'karyawan' is not defined"
     ]
    }
   ],
   "source": [
    "# Definisikan class Karyawan (sebagai base class)\n",
    "class Karyawan: \n",
    "    nama_perusahaan = 'ABC' \n",
    "    insentif_lembur = 250000\n",
    "    def __init__(self, nama, usia, pendapatan): \n",
    "        self.nama = nama\n",
    "        self.usia = usia \n",
    "        self.pendapatan = pendapatan \n",
    "        self.pendapatan_tambahan = 0\n",
    "    def lembur(self):\n",
    "        self.pendapatan_tambahan += self.insentif_lembur \n",
    "    def tambahan_proyek(self, insentif_proyek):\n",
    "        self.pendapatan_tambahan += insentif_proyek \n",
    "    def total_pendapatan(self):\n",
    "        return self.pendapatan + self.pendapatan_tambahan\n",
    "# Buat class turunan (sebagai inherit class) dari class karyawan, \n",
    "# yaitu class AnalisData\n",
    "class AnalisData(karyawan):\n",
    "    def __init__(self, nama, usia, pendapatan):\n",
    "    # melakukan pemanggilan konstruktur class Karyawan \n",
    "        super().__init__(nama, usia, pendapatan)\n",
    "# Buat kembali class turunan (sebagai inherit class) dari class karyawan,  \n",
    "# yaitu class IlmuwanData\n",
    "class IlmuwanData(karyawan):\n",
    "    def __init__(self, nama, usia, pendapatan):\n",
    "        # melakukan pemanggilan konstruktur class Karyawan \n",
    "        super().__init__(nama, usia, pendapatan)\n",
    "# Buat objek karyawan yang bekerja sebagai AnalisData\n",
    "aksara = AnalisData('Aksara', 25, 8500000)\n",
    "aksara.lembur()\n",
    "print(aksara.total_pendapatan())\n",
    "# Buat objek karyawan yang bekerja sebagai IlmuwanData\n",
    "senja = IlmuwanData('Senja', 28, 13000000)\n",
    "senja.tambahan_proyek(2000000)\n",
    "print(senja.total_pendapatan())"
   ]
  },
  {
   "cell_type": "code",
   "execution_count": 65,
   "metadata": {},
   "outputs": [
    {
     "name": "stdout",
     "output_type": "stream",
     "text": [
      "8750000\n",
      "13500000\n"
     ]
    }
   ],
   "source": [
    "# Definisikan class Karyawan (sebagai base class)\n",
    "class Karyawan: \n",
    "    nama_perusahaan = 'ABC' \n",
    "    insentif_lembur = 250000\n",
    "    def __init__(self, nama, usia, pendapatan): \n",
    "        self.nama = nama\n",
    "        self.usia = usia \n",
    "        self.pendapatan = pendapatan \n",
    "        self.pendapatan_tambahan = 0\n",
    "    def lembur(self):\n",
    "        self.pendapatan_tambahan += self.insentif_lembur \n",
    "    def tambahan_proyek(self, insentif_proyek):\n",
    "        self.pendapatan_tambahan += insentif_proyek \n",
    "    def total_pendapatan(self):\n",
    "        return self.pendapatan + self.pendapatan_tambahan\n",
    "# Buat class turunan (sebagai inherit class) dari class karyawan, \n",
    "# yaitu class AnalisData\n",
    "class AnalisData(Karyawan):\n",
    "    def __init__(self, nama, usia, pendapatan):\n",
    "    # melakukan pemanggilan konstruktur class Karyawan \n",
    "        super().__init__(nama, usia, pendapatan)\n",
    "# Buat kembali class turunan (sebagai inherit class) dari class karyawan,  \n",
    "# yaitu class IlmuwanData\n",
    "class IlmuwanData(Karyawan):\n",
    "    # mengubah atribut insentif_lembur yang digunakan pada fungsi lembur()\n",
    "    insentif_lembur = 500000\n",
    "    def __init__(self, nama, usia, pendapatan):\n",
    "        super().__init__(nama, usia, pendapatan)\n",
    "# Buat objek karyawan yang bekerja sebagai AnalisData\n",
    "aksara = AnalisData('Aksara', 25, 8500000)\n",
    "aksara.lembur()\n",
    "print(aksara.total_pendapatan())\n",
    "# Buat objek karyawan yang bekerja sebagai IlmuwanData\n",
    "senja = IlmuwanData('Senja', 28, 13000000)\n",
    "senja.lembur()\n",
    "print(senja.total_pendapatan())"
   ]
  },
  {
   "cell_type": "code",
   "execution_count": 66,
   "metadata": {},
   "outputs": [
    {
     "name": "stdout",
     "output_type": "stream",
     "text": [
      "9350000\n"
     ]
    }
   ],
   "source": [
    "class Karyawan: \n",
    "    nama_perusahaan = 'ABC' \n",
    "    insentif_lembur = 250000\n",
    "    def __init__(self, nama, usia, pendapatan): \n",
    "        self.nama = nama\n",
    "        self.usia = usia \n",
    "        self.pendapatan = pendapatan \n",
    "        self.pendapatan_tambahan = 0\n",
    "    def lembur(self):\n",
    "        self.pendapatan_tambahan += self.insentif_lembur \n",
    "    def tambahan_proyek(self, insentif_proyek):\n",
    "        self.pendapatan_tambahan += insentif_proyek \n",
    "    def total_pendapatan(self):\n",
    "        return self.pendapatan + self.pendapatan_tambahan\n",
    "# Buat class turunan (sebagai inherit class) dari class karyawan, \n",
    "# yaitu class AnalisData\n",
    "class AnalisData(Karyawan):\n",
    "    def __init__(self, nama, usia, pendapatan):\n",
    "    # melakukan pemanggilan konstruktur class Karyawan \n",
    "        super().__init__(nama, usia, pendapatan)\n",
    "    # menerapkan polymorphism dengan mendefinisikan kembali fungsi \n",
    "    # lembur() pada class AnalisData \n",
    "    def lembur(self):\n",
    "        # pendapatan tambahan pada class AnalisData sebesar\n",
    "        # 10 % dari pendapatannya.\n",
    "        self.pendapatan_tambahan += int(self.pendapatan * 0.1)\n",
    "# Buat objek karyawan yang bekerja sebagai AnalisData\n",
    "aksara = AnalisData('Aksara', 25, 8500000)\n",
    "aksara.lembur()\n",
    "print(aksara.total_pendapatan())"
   ]
  },
  {
   "cell_type": "code",
   "execution_count": 67,
   "metadata": {},
   "outputs": [
    {
     "ename": "IndentationError",
     "evalue": "unexpected indent (<ipython-input-67-91265bb560ff>, line 27)",
     "output_type": "error",
     "traceback": [
      "\u001b[1;36m  File \u001b[1;32m\"<ipython-input-67-91265bb560ff>\"\u001b[1;36m, line \u001b[1;32m27\u001b[0m\n\u001b[1;33m    self.pendapatan_tambahan += int(self.pendapatan * 0.05)\u001b[0m\n\u001b[1;37m    ^\u001b[0m\n\u001b[1;31mIndentationError\u001b[0m\u001b[1;31m:\u001b[0m unexpected indent\n"
     ]
    }
   ],
   "source": [
    "# Definisikan class Karyawan (sebagai base class)\n",
    "class Karyawan: \n",
    "    nama_perusahaan = 'ABC' \n",
    "    insentif_lembur = 250000\n",
    "    def __init__(self, nama, usia, pendapatan): \n",
    "        self.nama = nama\n",
    "        self.usia = usia \n",
    "        self.pendapatan = pendapatan \n",
    "        self.pendapatan_tambahan = 0\n",
    "    def lembur(self):\n",
    "        self.pendapatan_tambahan += self.insentif_lembur \n",
    "    def tambahan_proyek(self, insentif_proyek):\n",
    "        self.pendapatan_tambahan += insentif_proyek \n",
    "    def total_pendapatan(self):\n",
    "        return self.pendapatan + self.pendapatan_tambahan\n",
    "# Buat class turunan (sebagai inherit class) dari class karyawan, \n",
    "# yaitu class AnalisData\n",
    "class AnalisData(Karyawan):\n",
    "    def __init__(self, nama, usia, pendapatan): \n",
    "        super().__init__ (nama, usia, pendapatan)\n",
    "    # mendefinisikan kembali fungsi lembur() pada class AnalisData \n",
    "    def lembur(self):\n",
    "        # memanggil fungsi lembur pada class Karyawan \n",
    "        super().lembur()\n",
    "        # pendapatan tambahan pada class AnalisData sebesar\n",
    "        # 5 % dari pendapatannya.\n",
    "         self.pendapatan_tambahan += int(self.pendapatan * 0.05)\n",
    "# Buat objek karyawan yang bekerja sebagai AnalisData\n",
    "aksara = AnalisData('Aksara', 25, 8500000)\n",
    "aksara.lembur()\n",
    "print(aksara.total_pendapatan())"
   ]
  },
  {
   "cell_type": "code",
   "execution_count": 69,
   "metadata": {},
   "outputs": [
    {
     "ename": "IndentationError",
     "evalue": "unindent does not match any outer indentation level (<tokenize>, line 17)",
     "output_type": "error",
     "traceback": [
      "\u001b[1;36m  File \u001b[1;32m\"<tokenize>\"\u001b[1;36m, line \u001b[1;32m17\u001b[0m\n\u001b[1;33m    class TenagaLepas(Karyawan):\u001b[0m\n\u001b[1;37m    ^\u001b[0m\n\u001b[1;31mIndentationError\u001b[0m\u001b[1;31m:\u001b[0m unindent does not match any outer indentation level\n"
     ]
    }
   ],
   "source": [
    "# Definisikan class Karyawan\n",
    "class Karyawan:\n",
    "    def __init__(self, nama, usia, pendapatan, insentif_lembur): \n",
    "        self.nama = nama\n",
    "        self.usia = usia \n",
    "        self.pendapatan = pendapatan \n",
    "        self.pendapatan_tambahan = 0\n",
    "        self.insentif_lembur = insentif_lembur \n",
    "    def lembur(self):\n",
    "        self.pendapatan_tambahan += self.insentif_lembur \n",
    "    def tambahan_proyek(self,jumlah_tambahan):\n",
    "        self.pendapatan_tambahan += jumlah_tambahan \n",
    "    def total_pendapatan(self):\n",
    "        return self.pendapatan + self.pendapatan_tambahan\n",
    "# Definisikan class TenagaLepas sebagai child class dari\n",
    "# class Karyawan\n",
    " class TenagaLepas(Karyawan):\n",
    "    def __init__(self, nama, usia, pendapatan):\n",
    "        super().__init__(nama, usia, pendapatan,0)\n",
    "    def tambahan_proyek(self, nilai_proyek):\n",
    "        self.pendapatan_tambahan += nilai_proyek * 0.01"
   ]
  },
  {
   "cell_type": "code",
   "execution_count": 71,
   "metadata": {},
   "outputs": [
    {
     "ename": "IndentationError",
     "evalue": "unindent does not match any outer indentation level (<tokenize>, line 17)",
     "output_type": "error",
     "traceback": [
      "\u001b[1;36m  File \u001b[1;32m\"<tokenize>\"\u001b[1;36m, line \u001b[1;32m17\u001b[0m\n\u001b[1;33m    class TenagaLepas(Karyawan):\u001b[0m\n\u001b[1;37m    ^\u001b[0m\n\u001b[1;31mIndentationError\u001b[0m\u001b[1;31m:\u001b[0m unindent does not match any outer indentation level\n"
     ]
    }
   ],
   "source": [
    "# Definisikan class Karyawan\n",
    "class Karyawan:\n",
    "    def __init__(self, nama, usia, pendapatan, insentif_lembur): \n",
    "        self.nama = nama\n",
    "        self.usia = usia \n",
    "        self.pendapatan = pendapatan \n",
    "        self.pendapatan_tambahan = 0\n",
    "        self.insentif_lembur = insentif_lembur \n",
    "    def lembur(self):\n",
    "        self.pendapatan_tambahan += self.insentif_lembur \n",
    "    def tambahan_proyek(self,jumlah_tambahan):\n",
    "        self.pendapatan_tambahan += jumlah_tambahan \n",
    "    def total_pendapatan(self):\n",
    "        return self.pendapatan + self.pendapatan_tambahan\n",
    "# Definisikan class TenagaLepas sebagai child class dari\n",
    "# class Karyawan\n",
    " class TenagaLepas(Karyawan):\n",
    "    def __init__(self, nama, usia, pendapatan):\n",
    "        super().__init__(nama, usia, pendapatan,0)\n",
    "    def tambahan_proyek(self, nilai_proyek):\n",
    "        self.pendapatan_tambahan += nilai_proyek * 0.01"
   ]
  },
  {
   "cell_type": "code",
   "execution_count": 72,
   "metadata": {},
   "outputs": [
    {
     "name": "stdout",
     "output_type": "stream",
     "text": [
      "Budi\n",
      "21\n",
      "5000000\n",
      "Didi\n",
      "25\n",
      "5000000\n",
      "Hadi\n",
      "21\n",
      "8000000\n"
     ]
    }
   ],
   "source": [
    "class Karyawan: \n",
    "    nama_perusahaan = 'ABC' \n",
    "    insentif_lembur = 250000\n",
    "    # usia akan di-set nilainya menjadi 21 saat tidak\n",
    "    # dispesifikasikan dan pendapatan akan di-set nilainya\n",
    "    # menjadi 5000000 saat tidak dispesifikasikan\n",
    "    def __init__(self, nama, usia=21, pendapatan=5000000): \n",
    "        self.nama = nama\n",
    "        self.usia = usia \n",
    "        self.pendapatan = pendapatan \n",
    "        self.pendapatan_tambahan = 0\n",
    "    def lembur(self):\n",
    "        self.pendapatan_tambahan += self.insentif_lembur \n",
    "    def tambahan_proyek(self, insentif_proyek):\n",
    "        self.pendapatan_tambahan += insentif_proyek \n",
    "    def total_pendapatan(self):\n",
    "        return self.pendapatan + self.pendapatan_tambahan\n",
    "# Karyawan baru pertama yang bernama Budi\n",
    "karyawan_baru1 = Karyawan('Budi')\n",
    "print(karyawan_baru1.nama)\n",
    "print(karyawan_baru1.usia)\n",
    "print(karyawan_baru1.total_pendapatan())\n",
    "# Karyawan baru ke-2 yang bernama Didi, umur 25\n",
    "karyawan_baru2 = Karyawan('Didi', 25)\n",
    "print(karyawan_baru2.nama)\n",
    "print(karyawan_baru2.usia)\n",
    "print(karyawan_baru2.total_pendapatan())\n",
    "# Karyawan baru ke-3 yang bernama Hadi, pendapatan 8000000\n",
    "karyawan_baru3 = Karyawan('Hadi', pendapatan=8000000)\n",
    "print(karyawan_baru3.nama)\n",
    "print(karyawan_baru3.usia)\n",
    "print(karyawan_baru3.total_pendapatan())"
   ]
  },
  {
   "cell_type": "code",
   "execution_count": 73,
   "metadata": {},
   "outputs": [
    {
     "name": "stdout",
     "output_type": "stream",
     "text": [
      "Budi\n",
      "21\n",
      "5000000\n",
      "Didi\n",
      "25\n",
      "5000000\n",
      "Hadi\n",
      "21\n",
      "8000000\n"
     ]
    }
   ],
   "source": [
    "class Karyawan: \n",
    "    nama_perusahaan = 'ABC' \n",
    "    insentif_lembur = 250000\n",
    "    # usia akan di-set nilainya menjadi 21 saat tidak\n",
    "    # dispesifikasikan dan pendapatan akan di-set nilainya\n",
    "    # menjadi 5000000 saat tidak dispesifikasikan\n",
    "    def __init__(self, nama, usia=21, pendapatan=5000000): \n",
    "        self.nama = nama\n",
    "        self.usia = usia \n",
    "        self.pendapatan = pendapatan \n",
    "        self.pendapatan_tambahan = 0\n",
    "    def lembur(self):\n",
    "        self.pendapatan_tambahan += self.insentif_lembur \n",
    "    def tambahan_proyek(self, insentif_proyek):\n",
    "        self.pendapatan_tambahan += insentif_proyek \n",
    "    def total_pendapatan(self):\n",
    "        return self.pendapatan + self.pendapatan_tambahan\n",
    "# Karyawan baru pertama yang bernama Budi\n",
    "karyawan_baru1 = Karyawan('Budi')\n",
    "print(karyawan_baru1.nama)\n",
    "print(karyawan_baru1.usia)\n",
    "print(karyawan_baru1.total_pendapatan())\n",
    "# Karyawan baru ke-2 yang bernama Didi, umur 25\n",
    "karyawan_baru2 = Karyawan('Didi', 25)\n",
    "print(karyawan_baru2.nama)\n",
    "print(karyawan_baru2.usia)\n",
    "print(karyawan_baru2.total_pendapatan())\n",
    "# Karyawan baru ke-3 yang bernama Hadi, pendapatan 8000000\n",
    "karyawan_baru3 = Karyawan('Hadi', pendapatan=8000000)\n",
    "print(karyawan_baru3.nama)\n",
    "print(karyawan_baru3.usia)\n",
    "print(karyawan_baru3.total_pendapatan())"
   ]
  },
  {
   "cell_type": "code",
   "execution_count": null,
   "metadata": {},
   "outputs": [],
   "source": []
  }
 ],
 "metadata": {
  "kernelspec": {
   "display_name": "Python 3",
   "language": "python",
   "name": "python3"
  },
  "language_info": {
   "codemirror_mode": {
    "name": "ipython",
    "version": 3
   },
   "file_extension": ".py",
   "mimetype": "text/x-python",
   "name": "python",
   "nbconvert_exporter": "python",
   "pygments_lexer": "ipython3",
   "version": "3.8.5"
  }
 },
 "nbformat": 4,
 "nbformat_minor": 4
}
